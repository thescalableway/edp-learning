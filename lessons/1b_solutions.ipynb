{
 "cells": [
  {
   "cell_type": "markdown",
   "metadata": {},
   "source": [
    "# Exercise solutions"
   ]
  },
  {
   "cell_type": "markdown",
   "metadata": {},
   "source": [
    "## Exercise 1"
   ]
  },
  {
   "cell_type": "code",
   "execution_count": null,
   "metadata": {},
   "outputs": [],
   "source": [
    "import dlt\n",
    "import pandas as pd\n",
    "\n",
    "\n",
    "def read_iris():\n",
    "    url = \"https://archive.ics.uci.edu/ml/machine-learning-databases/iris/iris.data\"\n",
    "    col_names = [\"Sepal_Length\", \"Sepal_Width\", \"Petal_Length\", \"Petal_Width\", \"Class\"]\n",
    "    return pd.read_csv(url, names=col_names).to_dict(orient=\"records\")\n",
    "\n",
    "\n",
    "def read_wine():\n",
    "    url = \"https://archive.ics.uci.edu/ml/machine-learning-databases/wine/wine.data\"\n",
    "    col_names = [\n",
    "        \"fixed_acidity\",\n",
    "        \"volatile_acidity\",\n",
    "        \"citric_acid\",\n",
    "        \"residual_sugar\",\n",
    "        \"chlorides\",\n",
    "        \"free_sulfur_dioxide\",\n",
    "        \"total_sulfur_dioxide\",\n",
    "        \"density\",\n",
    "        \"pH\",\n",
    "        \"sulphates\",\n",
    "        \"alcohol\",\n",
    "        \"quality\",\n",
    "        \"color\",\n",
    "    ]\n",
    "    return pd.read_csv(url, names=col_names).to_dict(orient=\"records\")\n",
    "\n",
    "\n",
    "# NOTE: By default, dlt uses the name of the resource as the name of the destination\n",
    "# table.\n",
    "@dlt.source\n",
    "def csvs():\n",
    "    @dlt.resource()\n",
    "    def iris():\n",
    "        yield read_iris()\n",
    "\n",
    "    @dlt.resource()\n",
    "    def wine():\n",
    "        yield read_wine()\n",
    "\n",
    "    return iris, wine\n",
    "\n",
    "\n",
    "pipeline = dlt.pipeline(\n",
    "    pipeline_name=\"dummy_source_to_duckdb\",\n",
    "    destination=dlt.destinations.duckdb(\"csvs.duckdb\"),\n",
    "    dataset_name=\"bronze\",\n",
    ")\n",
    "\n",
    "if __name__ == \"__main__\":\n",
    "    load_info = pipeline.run(csvs())\n",
    "\n",
    "print(load_info)"
   ]
  }
 ],
 "metadata": {
  "language_info": {
   "name": "python"
  }
 },
 "nbformat": 4,
 "nbformat_minor": 2
}
