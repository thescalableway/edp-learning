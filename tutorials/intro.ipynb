{
 "cells": [
  {
   "cell_type": "markdown",
   "metadata": {
    "vscode": {
     "languageId": "markdown"
    }
   },
   "source": [
    "# Introduction + Sources, Resources, and Pipelines\n",
    "\n",
    "## 1. Introduction\n",
    "\n",
    "### What is dlt?\n",
    "\n",
    "[dlt](https://dlthub.com/) is a Python data ingestion framework enabling data engineers to define connectors and pipelines as code. It offers a rich set of features for building best-practice pipelines and supports both built-in and custom connectors built with regular Python code.\n",
    "\n",
    "For more information, see the [official docs](https://dlthub.com/docs/intro#what-is-dlt).\n",
    "\n",
    "### How does it work?\n",
    "\n",
    "dlt ingests data in three stages: extract, normalize, and load. The extract stage downloads source data to disk. The normalize stage applies light transformations to the data, such as column renaming or datetime parsing. The load stage loads the data into the destination system.\n",
    "\n",
    "![how does dlt work diagram](https://dlthub.com/docs/assets/images/dlt-onepager-c61255330e30060ca8f2fa6d7b73b600.png)\n",
    "Credit: [dlt documentation](https://dlthub.com/docs/reference/explainers/how-dlt-works)\n",
    "\n",
    "## 2. Hello, dlt\n",
    "\n",
    "Let's jump in and see dlt in action!\n",
    "\n"
   ]
  },
  {
   "cell_type": "code",
   "execution_count": 3,
   "metadata": {},
   "outputs": [
    {
     "name": "stdout",
     "output_type": "stream",
     "text": [
      "Pipeline dummy_source_to_duckdb load step completed in 0.23 seconds\n",
      "1 load package(s) were loaded to destination duckdb and into dataset mydata\n",
      "The duckdb destination used duckdb:////workspaces/edp-workshop/dummy_source_to_duckdb.duckdb location to store data\n",
      "Load package 1742325689.3566227 is LOADED and contains no failed jobs\n"
     ]
    }
   ],
   "source": [
    "import dlt\n",
    "\n",
    "\n",
    "# Sample data.\n",
    "people = [\n",
    "    {\"id\": \"1\", \"name\": \"Warren Buffet\", \"country\": \"USA\"},\n",
    "    {\"id\": \"2\", \"name\": \"Jack Ma\", \"country\": \"China\"},\n",
    "    {\"id\": \"3\", \"name\": \"Rafal Brzoska\", \"country\": \"Poland\"},\n",
    "]\n",
    "\n",
    "# Set pipeline name, destination, and dataset name.\n",
    "pipeline = dlt.pipeline(\n",
    "    pipeline_name=\"dummy_source_to_duckdb\",\n",
    "    destination=\"duckdb\",\n",
    "    dataset_name=\"mydata\",\n",
    ")\n",
    "\n",
    "load_info = pipeline.run(people, table_name=\"person\")\n",
    "\n",
    "print(load_info)"
   ]
  },
  {
   "cell_type": "markdown",
   "metadata": {
    "vscode": {
     "languageId": "shellscript"
    }
   },
   "source": [
    "Let's see what was loaded into the database:"
   ]
  },
  {
   "cell_type": "code",
   "execution_count": 14,
   "metadata": {
    "vscode": {
     "languageId": "shellscript"
    }
   },
   "outputs": [
    {
     "name": "stdout",
     "output_type": "stream",
     "text": [
      "\u001b[90m┌\u001b[0m\u001b[90m─\u001b[0m\u001b[90m─\u001b[0m\u001b[90m─\u001b[0m\u001b[90m─\u001b[0m\u001b[90m─\u001b[0m\u001b[90m─\u001b[0m\u001b[90m─\u001b[0m\u001b[90m─\u001b[0m\u001b[90m─\u001b[0m\u001b[90m─\u001b[0m\u001b[90m─\u001b[0m\u001b[90m─\u001b[0m\u001b[90m─\u001b[0m\u001b[90m─\u001b[0m\u001b[90m─\u001b[0m\u001b[90m─\u001b[0m\u001b[90m─\u001b[0m\u001b[90m─\u001b[0m\u001b[90m─\u001b[0m\u001b[90m─\u001b[0m\u001b[90m─\u001b[0m\u001b[90m─\u001b[0m\u001b[90m─\u001b[0m\u001b[90m─\u001b[0m\u001b[90m┬\u001b[0m\u001b[90m─\u001b[0m\u001b[90m─\u001b[0m\u001b[90m─\u001b[0m\u001b[90m─\u001b[0m\u001b[90m─\u001b[0m\u001b[90m─\u001b[0m\u001b[90m─\u001b[0m\u001b[90m─\u001b[0m\u001b[90m─\u001b[0m\u001b[90m─\u001b[0m\u001b[90m─\u001b[0m\u001b[90m─\u001b[0m\u001b[90m─\u001b[0m\u001b[90m─\u001b[0m\u001b[90m┬\u001b[0m\u001b[90m─\u001b[0m\u001b[90m─\u001b[0m\u001b[90m─\u001b[0m\u001b[90m─\u001b[0m\u001b[90m─\u001b[0m\u001b[90m─\u001b[0m\u001b[90m─\u001b[0m\u001b[90m─\u001b[0m\u001b[90m─\u001b[0m\u001b[90m─\u001b[0m\u001b[90m─\u001b[0m\u001b[90m─\u001b[0m\u001b[90m─\u001b[0m\u001b[90m─\u001b[0m\u001b[90m─\u001b[0m\u001b[90m─\u001b[0m\u001b[90m─\u001b[0m\u001b[90m─\u001b[0m\u001b[90m─\u001b[0m\u001b[90m─\u001b[0m\u001b[90m─\u001b[0m\u001b[90m┐\u001b[0m\u001b[90m\n",
      "\u001b[0m\u001b[90m│\u001b[0m\u001b[90m     \u001b[0mtable_catalog\u001b[90m      \u001b[0m\u001b[90m│\u001b[0m\u001b[90m \u001b[0mtable_schema\u001b[90m \u001b[0m\u001b[90m│\u001b[0m\u001b[90m     \u001b[0mtable_name\u001b[90m      \u001b[0m\u001b[90m│\u001b[0m\u001b[90m\n",
      "\u001b[0m\u001b[90m│\u001b[0m\u001b[90m        \u001b[0mvarchar\u001b[90m         \u001b[0m\u001b[90m│\u001b[0m\u001b[90m   \u001b[0mvarchar\u001b[90m    \u001b[0m\u001b[90m│\u001b[0m\u001b[90m       \u001b[0mvarchar\u001b[90m       \u001b[0m\u001b[90m│\u001b[0m\u001b[90m\n",
      "\u001b[0m\u001b[90m├\u001b[0m\u001b[90m─\u001b[0m\u001b[90m─\u001b[0m\u001b[90m─\u001b[0m\u001b[90m─\u001b[0m\u001b[90m─\u001b[0m\u001b[90m─\u001b[0m\u001b[90m─\u001b[0m\u001b[90m─\u001b[0m\u001b[90m─\u001b[0m\u001b[90m─\u001b[0m\u001b[90m─\u001b[0m\u001b[90m─\u001b[0m\u001b[90m─\u001b[0m\u001b[90m─\u001b[0m\u001b[90m─\u001b[0m\u001b[90m─\u001b[0m\u001b[90m─\u001b[0m\u001b[90m─\u001b[0m\u001b[90m─\u001b[0m\u001b[90m─\u001b[0m\u001b[90m─\u001b[0m\u001b[90m─\u001b[0m\u001b[90m─\u001b[0m\u001b[90m─\u001b[0m\u001b[90m┼\u001b[0m\u001b[90m─\u001b[0m\u001b[90m─\u001b[0m\u001b[90m─\u001b[0m\u001b[90m─\u001b[0m\u001b[90m─\u001b[0m\u001b[90m─\u001b[0m\u001b[90m─\u001b[0m\u001b[90m─\u001b[0m\u001b[90m─\u001b[0m\u001b[90m─\u001b[0m\u001b[90m─\u001b[0m\u001b[90m─\u001b[0m\u001b[90m─\u001b[0m\u001b[90m─\u001b[0m\u001b[90m┼\u001b[0m\u001b[90m─\u001b[0m\u001b[90m─\u001b[0m\u001b[90m─\u001b[0m\u001b[90m─\u001b[0m\u001b[90m─\u001b[0m\u001b[90m─\u001b[0m\u001b[90m─\u001b[0m\u001b[90m─\u001b[0m\u001b[90m─\u001b[0m\u001b[90m─\u001b[0m\u001b[90m─\u001b[0m\u001b[90m─\u001b[0m\u001b[90m─\u001b[0m\u001b[90m─\u001b[0m\u001b[90m─\u001b[0m\u001b[90m─\u001b[0m\u001b[90m─\u001b[0m\u001b[90m─\u001b[0m\u001b[90m─\u001b[0m\u001b[90m─\u001b[0m\u001b[90m─\u001b[0m\u001b[90m┤\u001b[0m\u001b[90m\n",
      "\u001b[0m\u001b[90m│\u001b[0m\u001b[90m \u001b[0mdummy_source_to_duckdb\u001b[90m \u001b[0m\u001b[90m│\u001b[0m\u001b[90m \u001b[0mmydata\u001b[90m       \u001b[0m\u001b[90m│\u001b[0m\u001b[90m \u001b[0mperson\u001b[90m              \u001b[0m\u001b[90m│\u001b[0m\u001b[90m\n",
      "\u001b[0m\u001b[90m│\u001b[0m\u001b[90m \u001b[0mdummy_source_to_duckdb\u001b[90m \u001b[0m\u001b[90m│\u001b[0m\u001b[90m \u001b[0mmydata\u001b[90m       \u001b[0m\u001b[90m│\u001b[0m\u001b[90m \u001b[0m_dlt_loads\u001b[90m          \u001b[0m\u001b[90m│\u001b[0m\u001b[90m\n",
      "\u001b[0m\u001b[90m│\u001b[0m\u001b[90m \u001b[0mdummy_source_to_duckdb\u001b[90m \u001b[0m\u001b[90m│\u001b[0m\u001b[90m \u001b[0mmydata\u001b[90m       \u001b[0m\u001b[90m│\u001b[0m\u001b[90m \u001b[0m_dlt_pipeline_state\u001b[90m \u001b[0m\u001b[90m│\u001b[0m\u001b[90m\n",
      "\u001b[0m\u001b[90m│\u001b[0m\u001b[90m \u001b[0mdummy_source_to_duckdb\u001b[90m \u001b[0m\u001b[90m│\u001b[0m\u001b[90m \u001b[0mmydata\u001b[90m       \u001b[0m\u001b[90m│\u001b[0m\u001b[90m \u001b[0m_dlt_version\u001b[90m        \u001b[0m\u001b[90m│\u001b[0m\u001b[90m\n",
      "\u001b[0m\u001b[90m└\u001b[0m\u001b[90m─\u001b[0m\u001b[90m─\u001b[0m\u001b[90m─\u001b[0m\u001b[90m─\u001b[0m\u001b[90m─\u001b[0m\u001b[90m─\u001b[0m\u001b[90m─\u001b[0m\u001b[90m─\u001b[0m\u001b[90m─\u001b[0m\u001b[90m─\u001b[0m\u001b[90m─\u001b[0m\u001b[90m─\u001b[0m\u001b[90m─\u001b[0m\u001b[90m─\u001b[0m\u001b[90m─\u001b[0m\u001b[90m─\u001b[0m\u001b[90m─\u001b[0m\u001b[90m─\u001b[0m\u001b[90m─\u001b[0m\u001b[90m─\u001b[0m\u001b[90m─\u001b[0m\u001b[90m─\u001b[0m\u001b[90m─\u001b[0m\u001b[90m─\u001b[0m\u001b[90m┴\u001b[0m\u001b[90m─\u001b[0m\u001b[90m─\u001b[0m\u001b[90m─\u001b[0m\u001b[90m─\u001b[0m\u001b[90m─\u001b[0m\u001b[90m─\u001b[0m\u001b[90m─\u001b[0m\u001b[90m─\u001b[0m\u001b[90m─\u001b[0m\u001b[90m─\u001b[0m\u001b[90m─\u001b[0m\u001b[90m─\u001b[0m\u001b[90m─\u001b[0m\u001b[90m─\u001b[0m\u001b[90m┴\u001b[0m\u001b[90m─\u001b[0m\u001b[90m─\u001b[0m\u001b[90m─\u001b[0m\u001b[90m─\u001b[0m\u001b[90m─\u001b[0m\u001b[90m─\u001b[0m\u001b[90m─\u001b[0m\u001b[90m─\u001b[0m\u001b[90m─\u001b[0m\u001b[90m─\u001b[0m\u001b[90m─\u001b[0m\u001b[90m─\u001b[0m\u001b[90m─\u001b[0m\u001b[90m─\u001b[0m\u001b[90m─\u001b[0m\u001b[90m─\u001b[0m\u001b[90m─\u001b[0m\u001b[90m─\u001b[0m\u001b[90m─\u001b[0m\u001b[90m─\u001b[0m\u001b[90m─\u001b[0m\u001b[90m┘\u001b[0m\u001b[90m\n",
      "\u001b[0m"
     ]
    }
   ],
   "source": [
    "!echo \"select table_catalog, table_schema, table_name from information_schema.tables;\" | duckdb ../dummy_source_to_duckdb.duckdb"
   ]
  },
  {
   "cell_type": "code",
   "execution_count": 10,
   "metadata": {
    "vscode": {
     "languageId": "shellscript"
    }
   },
   "outputs": [
    {
     "name": "stdout",
     "output_type": "stream",
     "text": [
      "\u001b[90m┌\u001b[0m\u001b[90m─\u001b[0m\u001b[90m─\u001b[0m\u001b[90m─\u001b[0m\u001b[90m─\u001b[0m\u001b[90m─\u001b[0m\u001b[90m─\u001b[0m\u001b[90m─\u001b[0m\u001b[90m─\u001b[0m\u001b[90m─\u001b[0m\u001b[90m┬\u001b[0m\u001b[90m─\u001b[0m\u001b[90m─\u001b[0m\u001b[90m─\u001b[0m\u001b[90m─\u001b[0m\u001b[90m─\u001b[0m\u001b[90m─\u001b[0m\u001b[90m─\u001b[0m\u001b[90m─\u001b[0m\u001b[90m─\u001b[0m\u001b[90m─\u001b[0m\u001b[90m─\u001b[0m\u001b[90m─\u001b[0m\u001b[90m─\u001b[0m\u001b[90m─\u001b[0m\u001b[90m─\u001b[0m\u001b[90m┬\u001b[0m\u001b[90m─\u001b[0m\u001b[90m─\u001b[0m\u001b[90m─\u001b[0m\u001b[90m─\u001b[0m\u001b[90m─\u001b[0m\u001b[90m─\u001b[0m\u001b[90m─\u001b[0m\u001b[90m─\u001b[0m\u001b[90m─\u001b[0m\u001b[90m┬\u001b[0m\u001b[90m─\u001b[0m\u001b[90m─\u001b[0m\u001b[90m─\u001b[0m\u001b[90m─\u001b[0m\u001b[90m─\u001b[0m\u001b[90m─\u001b[0m\u001b[90m─\u001b[0m\u001b[90m─\u001b[0m\u001b[90m─\u001b[0m\u001b[90m─\u001b[0m\u001b[90m─\u001b[0m\u001b[90m─\u001b[0m\u001b[90m─\u001b[0m\u001b[90m─\u001b[0m\u001b[90m─\u001b[0m\u001b[90m─\u001b[0m\u001b[90m─\u001b[0m\u001b[90m─\u001b[0m\u001b[90m─\u001b[0m\u001b[90m─\u001b[0m\u001b[90m┬\u001b[0m\u001b[90m─\u001b[0m\u001b[90m─\u001b[0m\u001b[90m─\u001b[0m\u001b[90m─\u001b[0m\u001b[90m─\u001b[0m\u001b[90m─\u001b[0m\u001b[90m─\u001b[0m\u001b[90m─\u001b[0m\u001b[90m─\u001b[0m\u001b[90m─\u001b[0m\u001b[90m─\u001b[0m\u001b[90m─\u001b[0m\u001b[90m─\u001b[0m\u001b[90m─\u001b[0m\u001b[90m─\u001b[0m\u001b[90m─\u001b[0m\u001b[90m┐\u001b[0m\u001b[90m\n",
      "\u001b[0m\u001b[90m│\u001b[0m\u001b[90m   \u001b[0mid\u001b[90m    \u001b[0m\u001b[90m│\u001b[0m\u001b[90m     \u001b[0mname\u001b[90m      \u001b[0m\u001b[90m│\u001b[0m\u001b[90m \u001b[0mcountry\u001b[90m \u001b[0m\u001b[90m│\u001b[0m\u001b[90m    \u001b[0m_dlt_load_id\u001b[90m    \u001b[0m\u001b[90m│\u001b[0m\u001b[90m    \u001b[0m_dlt_id\u001b[90m     \u001b[0m\u001b[90m│\u001b[0m\u001b[90m\n",
      "\u001b[0m\u001b[90m│\u001b[0m\u001b[90m \u001b[0mvarchar\u001b[90m \u001b[0m\u001b[90m│\u001b[0m\u001b[90m    \u001b[0mvarchar\u001b[90m    \u001b[0m\u001b[90m│\u001b[0m\u001b[90m \u001b[0mvarchar\u001b[90m \u001b[0m\u001b[90m│\u001b[0m\u001b[90m      \u001b[0mvarchar\u001b[90m       \u001b[0m\u001b[90m│\u001b[0m\u001b[90m    \u001b[0mvarchar\u001b[90m     \u001b[0m\u001b[90m│\u001b[0m\u001b[90m\n",
      "\u001b[0m\u001b[90m├\u001b[0m\u001b[90m─\u001b[0m\u001b[90m─\u001b[0m\u001b[90m─\u001b[0m\u001b[90m─\u001b[0m\u001b[90m─\u001b[0m\u001b[90m─\u001b[0m\u001b[90m─\u001b[0m\u001b[90m─\u001b[0m\u001b[90m─\u001b[0m\u001b[90m┼\u001b[0m\u001b[90m─\u001b[0m\u001b[90m─\u001b[0m\u001b[90m─\u001b[0m\u001b[90m─\u001b[0m\u001b[90m─\u001b[0m\u001b[90m─\u001b[0m\u001b[90m─\u001b[0m\u001b[90m─\u001b[0m\u001b[90m─\u001b[0m\u001b[90m─\u001b[0m\u001b[90m─\u001b[0m\u001b[90m─\u001b[0m\u001b[90m─\u001b[0m\u001b[90m─\u001b[0m\u001b[90m─\u001b[0m\u001b[90m┼\u001b[0m\u001b[90m─\u001b[0m\u001b[90m─\u001b[0m\u001b[90m─\u001b[0m\u001b[90m─\u001b[0m\u001b[90m─\u001b[0m\u001b[90m─\u001b[0m\u001b[90m─\u001b[0m\u001b[90m─\u001b[0m\u001b[90m─\u001b[0m\u001b[90m┼\u001b[0m\u001b[90m─\u001b[0m\u001b[90m─\u001b[0m\u001b[90m─\u001b[0m\u001b[90m─\u001b[0m\u001b[90m─\u001b[0m\u001b[90m─\u001b[0m\u001b[90m─\u001b[0m\u001b[90m─\u001b[0m\u001b[90m─\u001b[0m\u001b[90m─\u001b[0m\u001b[90m─\u001b[0m\u001b[90m─\u001b[0m\u001b[90m─\u001b[0m\u001b[90m─\u001b[0m\u001b[90m─\u001b[0m\u001b[90m─\u001b[0m\u001b[90m─\u001b[0m\u001b[90m─\u001b[0m\u001b[90m─\u001b[0m\u001b[90m─\u001b[0m\u001b[90m┼\u001b[0m\u001b[90m─\u001b[0m\u001b[90m─\u001b[0m\u001b[90m─\u001b[0m\u001b[90m─\u001b[0m\u001b[90m─\u001b[0m\u001b[90m─\u001b[0m\u001b[90m─\u001b[0m\u001b[90m─\u001b[0m\u001b[90m─\u001b[0m\u001b[90m─\u001b[0m\u001b[90m─\u001b[0m\u001b[90m─\u001b[0m\u001b[90m─\u001b[0m\u001b[90m─\u001b[0m\u001b[90m─\u001b[0m\u001b[90m─\u001b[0m\u001b[90m┤\u001b[0m\u001b[90m\n",
      "\u001b[0m\u001b[90m│\u001b[0m\u001b[90m \u001b[0m1\u001b[90m       \u001b[0m\u001b[90m│\u001b[0m\u001b[90m \u001b[0mWarren Buffet\u001b[90m \u001b[0m\u001b[90m│\u001b[0m\u001b[90m \u001b[0mUSA\u001b[90m     \u001b[0m\u001b[90m│\u001b[0m\u001b[90m \u001b[0m1742325689.3566227\u001b[90m \u001b[0m\u001b[90m│\u001b[0m\u001b[90m \u001b[0mqqJPygfKATrxhg\u001b[90m \u001b[0m\u001b[90m│\u001b[0m\u001b[90m\n",
      "\u001b[0m\u001b[90m│\u001b[0m\u001b[90m \u001b[0m2\u001b[90m       \u001b[0m\u001b[90m│\u001b[0m\u001b[90m \u001b[0mJack Ma\u001b[90m       \u001b[0m\u001b[90m│\u001b[0m\u001b[90m \u001b[0mChina\u001b[90m   \u001b[0m\u001b[90m│\u001b[0m\u001b[90m \u001b[0m1742325689.3566227\u001b[90m \u001b[0m\u001b[90m│\u001b[0m\u001b[90m \u001b[0m7BtQ7b/W0BYtCw\u001b[90m \u001b[0m\u001b[90m│\u001b[0m\u001b[90m\n",
      "\u001b[0m\u001b[90m│\u001b[0m\u001b[90m \u001b[0m3\u001b[90m       \u001b[0m\u001b[90m│\u001b[0m\u001b[90m \u001b[0mRafal Brzoska\u001b[90m \u001b[0m\u001b[90m│\u001b[0m\u001b[90m \u001b[0mPoland\u001b[90m  \u001b[0m\u001b[90m│\u001b[0m\u001b[90m \u001b[0m1742325689.3566227\u001b[90m \u001b[0m\u001b[90m│\u001b[0m\u001b[90m \u001b[0mGgzsEwOEnPesYQ\u001b[90m \u001b[0m\u001b[90m│\u001b[0m\u001b[90m\n",
      "\u001b[0m\u001b[90m└\u001b[0m\u001b[90m─\u001b[0m\u001b[90m─\u001b[0m\u001b[90m─\u001b[0m\u001b[90m─\u001b[0m\u001b[90m─\u001b[0m\u001b[90m─\u001b[0m\u001b[90m─\u001b[0m\u001b[90m─\u001b[0m\u001b[90m─\u001b[0m\u001b[90m┴\u001b[0m\u001b[90m─\u001b[0m\u001b[90m─\u001b[0m\u001b[90m─\u001b[0m\u001b[90m─\u001b[0m\u001b[90m─\u001b[0m\u001b[90m─\u001b[0m\u001b[90m─\u001b[0m\u001b[90m─\u001b[0m\u001b[90m─\u001b[0m\u001b[90m─\u001b[0m\u001b[90m─\u001b[0m\u001b[90m─\u001b[0m\u001b[90m─\u001b[0m\u001b[90m─\u001b[0m\u001b[90m─\u001b[0m\u001b[90m┴\u001b[0m\u001b[90m─\u001b[0m\u001b[90m─\u001b[0m\u001b[90m─\u001b[0m\u001b[90m─\u001b[0m\u001b[90m─\u001b[0m\u001b[90m─\u001b[0m\u001b[90m─\u001b[0m\u001b[90m─\u001b[0m\u001b[90m─\u001b[0m\u001b[90m┴\u001b[0m\u001b[90m─\u001b[0m\u001b[90m─\u001b[0m\u001b[90m─\u001b[0m\u001b[90m─\u001b[0m\u001b[90m─\u001b[0m\u001b[90m─\u001b[0m\u001b[90m─\u001b[0m\u001b[90m─\u001b[0m\u001b[90m─\u001b[0m\u001b[90m─\u001b[0m\u001b[90m─\u001b[0m\u001b[90m─\u001b[0m\u001b[90m─\u001b[0m\u001b[90m─\u001b[0m\u001b[90m─\u001b[0m\u001b[90m─\u001b[0m\u001b[90m─\u001b[0m\u001b[90m─\u001b[0m\u001b[90m─\u001b[0m\u001b[90m─\u001b[0m\u001b[90m┴\u001b[0m\u001b[90m─\u001b[0m\u001b[90m─\u001b[0m\u001b[90m─\u001b[0m\u001b[90m─\u001b[0m\u001b[90m─\u001b[0m\u001b[90m─\u001b[0m\u001b[90m─\u001b[0m\u001b[90m─\u001b[0m\u001b[90m─\u001b[0m\u001b[90m─\u001b[0m\u001b[90m─\u001b[0m\u001b[90m─\u001b[0m\u001b[90m─\u001b[0m\u001b[90m─\u001b[0m\u001b[90m─\u001b[0m\u001b[90m─\u001b[0m\u001b[90m┘\u001b[0m\u001b[90m\n",
      "\u001b[0m"
     ]
    }
   ],
   "source": [
    "!echo \"select * from mydata.person;\" | duckdb ../dummy_source_to_duckdb.duckdb"
   ]
  },
  {
   "cell_type": "markdown",
   "metadata": {},
   "source": [
    "In the next sections, we will learn more about the features and ways of working with dlt as we build gradually more complex pipelines."
   ]
  },
  {
   "cell_type": "markdown",
   "metadata": {},
   "source": [
    "## 3. Sources, resources, and pipelines\n",
    "\n",
    "In this section, we will:\n",
    "\n",
    "- learn about the three key dlt concepts\n",
    "- configure a source and two resources\n",
    "- briefly showcase destinations"
   ]
  },
  {
   "cell_type": "markdown",
   "metadata": {},
   "source": [
    "### 3.1 Resources\n",
    "\n",
    "Resources represent the data that flows through a dlt pipeline. They allow us to use various dlt funcionalities such as incremental loading and specify some of the ELT configuration, which we would be unable to do if we worked with raw data.\n",
    "\n",
    "In the script below, we use `dlt.resource()` in order to specify the name of the target table when defining the resource, rather than at pipeline runtime (`pipeline.run()`)."
   ]
  },
  {
   "cell_type": "code",
   "execution_count": 10,
   "metadata": {},
   "outputs": [
    {
     "name": "stdout",
     "output_type": "stream",
     "text": [
      "Pipeline dummy_source_to_duckdb load step completed in 0.17 seconds\n",
      "1 load package(s) were loaded to destination duckdb and into dataset mydata\n",
      "The duckdb destination used duckdb:////workspaces/edp-workshop/dummy_source_to_duckdb.duckdb location to store data\n",
      "Load package 1742311418.0469034 is LOADED and contains no failed jobs\n"
     ]
    }
   ],
   "source": [
    "import dlt\n",
    "\n",
    "# We now describe the data source as a dlt resource rather than a Python list.\n",
    "@dlt.resource(table_name=\"person\")\n",
    "def people():\n",
    "    yield [\n",
    "        {\"id\": \"1\", \"name\": \"Warren Buffet\", \"country\": \"USA\"},\n",
    "        {\"id\": \"2\", \"name\": \"Jack Ma\", \"country\": \"China\"},\n",
    "        {\"id\": \"3\", \"name\": \"Rafal Brzoska\", \"country\": \"Poland\"},\n",
    "    ]\n",
    "\n",
    "pipeline = dlt.pipeline(\n",
    "    pipeline_name=\"dummy_source_to_duckdb\",\n",
    "    destination=\"duckdb\",\n",
    "    dataset_name=\"mydata\",\n",
    ")\n",
    "\n",
    "load_info = pipeline.run(people)\n",
    "\n",
    "print(load_info)"
   ]
  },
  {
   "cell_type": "markdown",
   "metadata": {},
   "source": [
    "### 3.2 Sources\n",
    "\n",
    "Sources are groups of resources. They allow us to define the source of the data and the resources that will be loaded from that source. For example, a source could be an SQL database, while a resource would be a table in that database.\n",
    "\n",
    "dlt offers several built-in standard sources such as databases, REST APIs, or cloud storage. We can also define custom sources by using the `dlt.source()` decorator.\n",
    "\n",
    "In the script below, we define a custom source with two resources."
   ]
  },
  {
   "cell_type": "code",
   "execution_count": 1,
   "metadata": {},
   "outputs": [
    {
     "name": "stdout",
     "output_type": "stream",
     "text": [
      "Pipeline dummy_source_to_duckdb load step completed in 0.19 seconds\n",
      "1 load package(s) were loaded to destination duckdb and into dataset mydata\n",
      "The duckdb destination used duckdb:////workspaces/edp-workshop/dummy_source_to_duckdb.duckdb location to store data\n",
      "Load package 1742313799.8798592 is LOADED and contains no failed jobs\n"
     ]
    }
   ],
   "source": [
    "import dlt\n",
    "\n",
    "\n",
    "@dlt.source\n",
    "def dummy_data():\n",
    "    @dlt.resource(table_name=\"person\")\n",
    "    def people():\n",
    "        yield [\n",
    "            {\"id\": \"1\", \"name\": \"Warren Buffet\", \"country\": \"USA\"},\n",
    "            {\"id\": \"2\", \"name\": \"Jack Ma\", \"country\": \"China\"},\n",
    "            {\"id\": \"3\", \"name\": \"Rafal Brzoska\", \"country\": \"Poland\"},\n",
    "        ]\n",
    "\n",
    "    @dlt.resource(table_name=\"country\")\n",
    "    def countries():\n",
    "        yield [\n",
    "            {\"id\": \"1\", \"name\": \"USA\", \"population\": 331449281},\n",
    "            {\"id\": \"2\", \"name\": \"China\", \"population\": 1444216107},\n",
    "            {\"id\": \"3\", \"name\": \"Poland\", \"population\": 37846611},\n",
    "        ]\n",
    "\n",
    "    # NOTE: We need to return the resources here.\n",
    "    return people, countries\n",
    "\n",
    "\n",
    "pipeline = dlt.pipeline(\n",
    "    pipeline_name=\"dummy_source_to_duckdb\",\n",
    "    destination=\"duckdb\",\n",
    "    dataset_name=\"mydata\",\n",
    ")\n",
    "\n",
    "if __name__ == \"__main__\":\n",
    "    # NOTE: We still provide resources as the data, since `dummy_data()` returns\n",
    "    # the two resources.\n",
    "    load_info = pipeline.run(data=dummy_data())\n",
    "\n",
    "print(load_info)"
   ]
  },
  {
   "cell_type": "markdown",
   "metadata": {},
   "source": [
    "##### A more real-life example\n",
    "\n",
    "Just to show you how easy this is with any built-in dlt source as well, let's sidestep and quickly load some data from a production MySQL database:"
   ]
  },
  {
   "cell_type": "code",
   "execution_count": null,
   "metadata": {
    "vscode": {
     "languageId": "shellscript"
    }
   },
   "outputs": [],
   "source": [
    "%%capture\n",
    "\n",
    "# Install required dependencies for the MySQL connector.\n",
    "!uv add dlt --extra sql_database\n",
    "!uv add pymysql"
   ]
  },
  {
   "cell_type": "markdown",
   "metadata": {},
   "source": [
    "NOTE: executing this might take a minute."
   ]
  },
  {
   "cell_type": "code",
   "execution_count": null,
   "metadata": {},
   "outputs": [
    {
     "name": "stdout",
     "output_type": "stream",
     "text": [
      "Pipeline sql_database_example load step completed in 6.43 seconds\n",
      "1 load package(s) were loaded to destination duckdb and into dataset sql_data\n",
      "The duckdb destination used duckdb:////workspaces/edp-workshop/sql_database_example.duckdb location to store data\n",
      "Load package 1742329216.0123036 is LOADED and contains no failed jobs\n"
     ]
    }
   ],
   "source": [
    "from dlt.sources.sql_database import sql_database\n",
    "\n",
    "# NOTE: without .with_resources(), we'd be replicating the entire database, which is\n",
    "# too resource-intensive for this tutorial.\n",
    "source = sql_database(\n",
    "    \"mysql+pymysql://rfamro@mysql-rfam-public.ebi.ac.uk:4497/Rfam\"\n",
    ").with_resources(\"family\", \"genome\")\n",
    "\n",
    "pipeline = dlt.pipeline(\n",
    "    pipeline_name=\"sql_database_example\",\n",
    "    destination=\"duckdb\",\n",
    "    dataset_name=\"sql_data\",\n",
    ")\n",
    "\n",
    "load_info = pipeline.run(source)\n",
    "\n",
    "print(load_info)"
   ]
  },
  {
   "cell_type": "code",
   "execution_count": 12,
   "metadata": {
    "vscode": {
     "languageId": "shellscript"
    }
   },
   "outputs": [
    {
     "name": "stdout",
     "output_type": "stream",
     "text": [
      "\u001b[90m┌\u001b[0m\u001b[90m─\u001b[0m\u001b[90m─\u001b[0m\u001b[90m─\u001b[0m\u001b[90m─\u001b[0m\u001b[90m─\u001b[0m\u001b[90m─\u001b[0m\u001b[90m─\u001b[0m\u001b[90m─\u001b[0m\u001b[90m─\u001b[0m\u001b[90m─\u001b[0m\u001b[90m┬\u001b[0m\u001b[90m─\u001b[0m\u001b[90m─\u001b[0m\u001b[90m─\u001b[0m\u001b[90m─\u001b[0m\u001b[90m─\u001b[0m\u001b[90m─\u001b[0m\u001b[90m─\u001b[0m\u001b[90m─\u001b[0m\u001b[90m─\u001b[0m\u001b[90m─\u001b[0m\u001b[90m─\u001b[0m\u001b[90m┬\u001b[0m\u001b[90m─\u001b[0m\u001b[90m─\u001b[0m\u001b[90m─\u001b[0m\u001b[90m─\u001b[0m\u001b[90m─\u001b[0m\u001b[90m─\u001b[0m\u001b[90m─\u001b[0m\u001b[90m─\u001b[0m\u001b[90m─\u001b[0m\u001b[90m─\u001b[0m\u001b[90m─\u001b[0m\u001b[90m┬\u001b[0m\u001b[90m─\u001b[0m\u001b[90m─\u001b[0m\u001b[90m─\u001b[0m\u001b[90m┬\u001b[0m\u001b[90m─\u001b[0m\u001b[90m─\u001b[0m\u001b[90m─\u001b[0m\u001b[90m─\u001b[0m\u001b[90m─\u001b[0m\u001b[90m─\u001b[0m\u001b[90m─\u001b[0m\u001b[90m─\u001b[0m\u001b[90m─\u001b[0m\u001b[90m─\u001b[0m\u001b[90m─\u001b[0m\u001b[90m─\u001b[0m\u001b[90m─\u001b[0m\u001b[90m─\u001b[0m\u001b[90m─\u001b[0m\u001b[90m─\u001b[0m\u001b[90m─\u001b[0m\u001b[90m─\u001b[0m\u001b[90m─\u001b[0m\u001b[90m─\u001b[0m\u001b[90m─\u001b[0m\u001b[90m─\u001b[0m\u001b[90m┬\u001b[0m\u001b[90m─\u001b[0m\u001b[90m─\u001b[0m\u001b[90m─\u001b[0m\u001b[90m─\u001b[0m\u001b[90m─\u001b[0m\u001b[90m─\u001b[0m\u001b[90m─\u001b[0m\u001b[90m─\u001b[0m\u001b[90m─\u001b[0m\u001b[90m─\u001b[0m\u001b[90m─\u001b[0m\u001b[90m─\u001b[0m\u001b[90m─\u001b[0m\u001b[90m─\u001b[0m\u001b[90m─\u001b[0m\u001b[90m─\u001b[0m\u001b[90m─\u001b[0m\u001b[90m─\u001b[0m\u001b[90m─\u001b[0m\u001b[90m─\u001b[0m\u001b[90m─\u001b[0m\u001b[90m─\u001b[0m\u001b[90m┬\u001b[0m\u001b[90m─\u001b[0m\u001b[90m─\u001b[0m\u001b[90m─\u001b[0m\u001b[90m─\u001b[0m\u001b[90m─\u001b[0m\u001b[90m─\u001b[0m\u001b[90m─\u001b[0m\u001b[90m─\u001b[0m\u001b[90m─\u001b[0m\u001b[90m─\u001b[0m\u001b[90m─\u001b[0m\u001b[90m─\u001b[0m\u001b[90m─\u001b[0m\u001b[90m─\u001b[0m\u001b[90m─\u001b[0m\u001b[90m─\u001b[0m\u001b[90m─\u001b[0m\u001b[90m─\u001b[0m\u001b[90m─\u001b[0m\u001b[90m─\u001b[0m\u001b[90m┬\u001b[0m\u001b[90m─\u001b[0m\u001b[90m─\u001b[0m\u001b[90m─\u001b[0m\u001b[90m─\u001b[0m\u001b[90m─\u001b[0m\u001b[90m─\u001b[0m\u001b[90m─\u001b[0m\u001b[90m─\u001b[0m\u001b[90m─\u001b[0m\u001b[90m─\u001b[0m\u001b[90m─\u001b[0m\u001b[90m─\u001b[0m\u001b[90m─\u001b[0m\u001b[90m─\u001b[0m\u001b[90m─\u001b[0m\u001b[90m─\u001b[0m\u001b[90m┐\u001b[0m\u001b[90m\n",
      "\u001b[0m\u001b[90m│\u001b[0m\u001b[90m \u001b[0mrfam_acc\u001b[90m \u001b[0m\u001b[90m│\u001b[0m\u001b[90m  \u001b[0mrfam_id\u001b[90m  \u001b[0m\u001b[90m│\u001b[0m\u001b[90m \u001b[0mauto_wiki\u001b[90m \u001b[0m\u001b[90m│\u001b[0m\u001b[90m \u001b[0m\u001b[90m…\u001b[0m\u001b[90m \u001b[0m\u001b[90m│\u001b[0m\u001b[90m       \u001b[0mcreated\u001b[90m        \u001b[0m\u001b[90m│\u001b[0m\u001b[90m       \u001b[0mupdated\u001b[90m        \u001b[0m\u001b[90m│\u001b[0m\u001b[90m    \u001b[0m_dlt_load_id\u001b[90m    \u001b[0m\u001b[90m│\u001b[0m\u001b[90m    \u001b[0m_dlt_id\u001b[90m     \u001b[0m\u001b[90m│\u001b[0m\u001b[90m\n",
      "\u001b[0m\u001b[90m│\u001b[0m\u001b[90m \u001b[0mvarchar\u001b[90m  \u001b[0m\u001b[90m│\u001b[0m\u001b[90m  \u001b[0mvarchar\u001b[90m  \u001b[0m\u001b[90m│\u001b[0m\u001b[90m   \u001b[0mint64\u001b[90m   \u001b[0m\u001b[90m│\u001b[0m\u001b[90m \u001b[0m\u001b[90m\u001b[0m\u001b[90m  \u001b[0m\u001b[90m│\u001b[0m\u001b[90m \u001b[0mtimestamp with tim…\u001b[90m  \u001b[0m\u001b[90m│\u001b[0m\u001b[90m \u001b[0mtimestamp with tim…\u001b[90m  \u001b[0m\u001b[90m│\u001b[0m\u001b[90m      \u001b[0mvarchar\u001b[90m       \u001b[0m\u001b[90m│\u001b[0m\u001b[90m    \u001b[0mvarchar\u001b[90m     \u001b[0m\u001b[90m│\u001b[0m\u001b[90m\n",
      "\u001b[0m\u001b[90m├\u001b[0m\u001b[90m─\u001b[0m\u001b[90m─\u001b[0m\u001b[90m─\u001b[0m\u001b[90m─\u001b[0m\u001b[90m─\u001b[0m\u001b[90m─\u001b[0m\u001b[90m─\u001b[0m\u001b[90m─\u001b[0m\u001b[90m─\u001b[0m\u001b[90m─\u001b[0m\u001b[90m┼\u001b[0m\u001b[90m─\u001b[0m\u001b[90m─\u001b[0m\u001b[90m─\u001b[0m\u001b[90m─\u001b[0m\u001b[90m─\u001b[0m\u001b[90m─\u001b[0m\u001b[90m─\u001b[0m\u001b[90m─\u001b[0m\u001b[90m─\u001b[0m\u001b[90m─\u001b[0m\u001b[90m─\u001b[0m\u001b[90m┼\u001b[0m\u001b[90m─\u001b[0m\u001b[90m─\u001b[0m\u001b[90m─\u001b[0m\u001b[90m─\u001b[0m\u001b[90m─\u001b[0m\u001b[90m─\u001b[0m\u001b[90m─\u001b[0m\u001b[90m─\u001b[0m\u001b[90m─\u001b[0m\u001b[90m─\u001b[0m\u001b[90m─\u001b[0m\u001b[90m┼\u001b[0m\u001b[90m─\u001b[0m\u001b[90m─\u001b[0m\u001b[90m─\u001b[0m\u001b[90m┼\u001b[0m\u001b[90m─\u001b[0m\u001b[90m─\u001b[0m\u001b[90m─\u001b[0m\u001b[90m─\u001b[0m\u001b[90m─\u001b[0m\u001b[90m─\u001b[0m\u001b[90m─\u001b[0m\u001b[90m─\u001b[0m\u001b[90m─\u001b[0m\u001b[90m─\u001b[0m\u001b[90m─\u001b[0m\u001b[90m─\u001b[0m\u001b[90m─\u001b[0m\u001b[90m─\u001b[0m\u001b[90m─\u001b[0m\u001b[90m─\u001b[0m\u001b[90m─\u001b[0m\u001b[90m─\u001b[0m\u001b[90m─\u001b[0m\u001b[90m─\u001b[0m\u001b[90m─\u001b[0m\u001b[90m─\u001b[0m\u001b[90m┼\u001b[0m\u001b[90m─\u001b[0m\u001b[90m─\u001b[0m\u001b[90m─\u001b[0m\u001b[90m─\u001b[0m\u001b[90m─\u001b[0m\u001b[90m─\u001b[0m\u001b[90m─\u001b[0m\u001b[90m─\u001b[0m\u001b[90m─\u001b[0m\u001b[90m─\u001b[0m\u001b[90m─\u001b[0m\u001b[90m─\u001b[0m\u001b[90m─\u001b[0m\u001b[90m─\u001b[0m\u001b[90m─\u001b[0m\u001b[90m─\u001b[0m\u001b[90m─\u001b[0m\u001b[90m─\u001b[0m\u001b[90m─\u001b[0m\u001b[90m─\u001b[0m\u001b[90m─\u001b[0m\u001b[90m─\u001b[0m\u001b[90m┼\u001b[0m\u001b[90m─\u001b[0m\u001b[90m─\u001b[0m\u001b[90m─\u001b[0m\u001b[90m─\u001b[0m\u001b[90m─\u001b[0m\u001b[90m─\u001b[0m\u001b[90m─\u001b[0m\u001b[90m─\u001b[0m\u001b[90m─\u001b[0m\u001b[90m─\u001b[0m\u001b[90m─\u001b[0m\u001b[90m─\u001b[0m\u001b[90m─\u001b[0m\u001b[90m─\u001b[0m\u001b[90m─\u001b[0m\u001b[90m─\u001b[0m\u001b[90m─\u001b[0m\u001b[90m─\u001b[0m\u001b[90m─\u001b[0m\u001b[90m─\u001b[0m\u001b[90m┼\u001b[0m\u001b[90m─\u001b[0m\u001b[90m─\u001b[0m\u001b[90m─\u001b[0m\u001b[90m─\u001b[0m\u001b[90m─\u001b[0m\u001b[90m─\u001b[0m\u001b[90m─\u001b[0m\u001b[90m─\u001b[0m\u001b[90m─\u001b[0m\u001b[90m─\u001b[0m\u001b[90m─\u001b[0m\u001b[90m─\u001b[0m\u001b[90m─\u001b[0m\u001b[90m─\u001b[0m\u001b[90m─\u001b[0m\u001b[90m─\u001b[0m\u001b[90m┤\u001b[0m\u001b[90m\n",
      "\u001b[0m\u001b[90m│\u001b[0m\u001b[90m \u001b[0mRF00001\u001b[90m  \u001b[0m\u001b[90m│\u001b[0m\u001b[90m \u001b[0m5S_rRNA\u001b[90m   \u001b[0m\u001b[90m│\u001b[0m\u001b[90m      \u001b[0m1302\u001b[90m \u001b[0m\u001b[90m│\u001b[0m\u001b[90m \u001b[0m\u001b[90m…\u001b[0m\u001b[90m \u001b[0m\u001b[90m│\u001b[0m\u001b[90m \u001b[0m2013-10-03 20:41:4…\u001b[90m  \u001b[0m\u001b[90m│\u001b[0m\u001b[90m \u001b[0m2024-09-09 21:15:1…\u001b[90m  \u001b[0m\u001b[90m│\u001b[0m\u001b[90m \u001b[0m1742329216.0123036\u001b[90m \u001b[0m\u001b[90m│\u001b[0m\u001b[90m \u001b[0mxlL35qI6gfeG+A\u001b[90m \u001b[0m\u001b[90m│\u001b[0m\u001b[90m\n",
      "\u001b[0m\u001b[90m│\u001b[0m\u001b[90m \u001b[0mRF00002\u001b[90m  \u001b[0m\u001b[90m│\u001b[0m\u001b[90m \u001b[0m5_8S_rRNA\u001b[90m \u001b[0m\u001b[90m│\u001b[0m\u001b[90m      \u001b[0m1303\u001b[90m \u001b[0m\u001b[90m│\u001b[0m\u001b[90m \u001b[0m\u001b[90m…\u001b[0m\u001b[90m \u001b[0m\u001b[90m│\u001b[0m\u001b[90m \u001b[0m2013-10-03 20:47:0…\u001b[90m  \u001b[0m\u001b[90m│\u001b[0m\u001b[90m \u001b[0m2024-09-10 04:51:1…\u001b[90m  \u001b[0m\u001b[90m│\u001b[0m\u001b[90m \u001b[0m1742329216.0123036\u001b[90m \u001b[0m\u001b[90m│\u001b[0m\u001b[90m \u001b[0mkjStHhrqk+sMBA\u001b[90m \u001b[0m\u001b[90m│\u001b[0m\u001b[90m\n",
      "\u001b[0m\u001b[90m│\u001b[0m\u001b[90m \u001b[0mRF00003\u001b[90m  \u001b[0m\u001b[90m│\u001b[0m\u001b[90m \u001b[0mU1\u001b[90m        \u001b[0m\u001b[90m│\u001b[0m\u001b[90m      \u001b[0m1304\u001b[90m \u001b[0m\u001b[90m│\u001b[0m\u001b[90m \u001b[0m\u001b[90m…\u001b[0m\u001b[90m \u001b[0m\u001b[90m│\u001b[0m\u001b[90m \u001b[0m2013-10-03 20:57:1…\u001b[90m  \u001b[0m\u001b[90m│\u001b[0m\u001b[90m \u001b[0m2024-09-09 21:15:1…\u001b[90m  \u001b[0m\u001b[90m│\u001b[0m\u001b[90m \u001b[0m1742329216.0123036\u001b[90m \u001b[0m\u001b[90m│\u001b[0m\u001b[90m \u001b[0mlzsAHzptTBCjrg\u001b[90m \u001b[0m\u001b[90m│\u001b[0m\u001b[90m\n",
      "\u001b[0m\u001b[90m├\u001b[0m\u001b[90m─\u001b[0m\u001b[90m─\u001b[0m\u001b[90m─\u001b[0m\u001b[90m─\u001b[0m\u001b[90m─\u001b[0m\u001b[90m─\u001b[0m\u001b[90m─\u001b[0m\u001b[90m─\u001b[0m\u001b[90m─\u001b[0m\u001b[90m─\u001b[0m\u001b[90m┴\u001b[0m\u001b[90m─\u001b[0m\u001b[90m─\u001b[0m\u001b[90m─\u001b[0m\u001b[90m─\u001b[0m\u001b[90m─\u001b[0m\u001b[90m─\u001b[0m\u001b[90m─\u001b[0m\u001b[90m─\u001b[0m\u001b[90m─\u001b[0m\u001b[90m─\u001b[0m\u001b[90m─\u001b[0m\u001b[90m┴\u001b[0m\u001b[90m─\u001b[0m\u001b[90m─\u001b[0m\u001b[90m─\u001b[0m\u001b[90m─\u001b[0m\u001b[90m─\u001b[0m\u001b[90m─\u001b[0m\u001b[90m─\u001b[0m\u001b[90m─\u001b[0m\u001b[90m─\u001b[0m\u001b[90m─\u001b[0m\u001b[90m─\u001b[0m\u001b[90m┴\u001b[0m\u001b[90m─\u001b[0m\u001b[90m─\u001b[0m\u001b[90m─\u001b[0m\u001b[90m┴\u001b[0m\u001b[90m─\u001b[0m\u001b[90m─\u001b[0m\u001b[90m─\u001b[0m\u001b[90m─\u001b[0m\u001b[90m─\u001b[0m\u001b[90m─\u001b[0m\u001b[90m─\u001b[0m\u001b[90m─\u001b[0m\u001b[90m─\u001b[0m\u001b[90m─\u001b[0m\u001b[90m─\u001b[0m\u001b[90m─\u001b[0m\u001b[90m─\u001b[0m\u001b[90m─\u001b[0m\u001b[90m─\u001b[0m\u001b[90m─\u001b[0m\u001b[90m─\u001b[0m\u001b[90m─\u001b[0m\u001b[90m─\u001b[0m\u001b[90m─\u001b[0m\u001b[90m─\u001b[0m\u001b[90m─\u001b[0m\u001b[90m┴\u001b[0m\u001b[90m─\u001b[0m\u001b[90m─\u001b[0m\u001b[90m─\u001b[0m\u001b[90m─\u001b[0m\u001b[90m─\u001b[0m\u001b[90m─\u001b[0m\u001b[90m─\u001b[0m\u001b[90m─\u001b[0m\u001b[90m─\u001b[0m\u001b[90m─\u001b[0m\u001b[90m─\u001b[0m\u001b[90m─\u001b[0m\u001b[90m─\u001b[0m\u001b[90m─\u001b[0m\u001b[90m─\u001b[0m\u001b[90m─\u001b[0m\u001b[90m─\u001b[0m\u001b[90m─\u001b[0m\u001b[90m─\u001b[0m\u001b[90m─\u001b[0m\u001b[90m─\u001b[0m\u001b[90m─\u001b[0m\u001b[90m┴\u001b[0m\u001b[90m─\u001b[0m\u001b[90m─\u001b[0m\u001b[90m─\u001b[0m\u001b[90m─\u001b[0m\u001b[90m─\u001b[0m\u001b[90m─\u001b[0m\u001b[90m─\u001b[0m\u001b[90m─\u001b[0m\u001b[90m─\u001b[0m\u001b[90m─\u001b[0m\u001b[90m─\u001b[0m\u001b[90m─\u001b[0m\u001b[90m─\u001b[0m\u001b[90m─\u001b[0m\u001b[90m─\u001b[0m\u001b[90m─\u001b[0m\u001b[90m─\u001b[0m\u001b[90m─\u001b[0m\u001b[90m─\u001b[0m\u001b[90m─\u001b[0m\u001b[90m┴\u001b[0m\u001b[90m─\u001b[0m\u001b[90m─\u001b[0m\u001b[90m─\u001b[0m\u001b[90m─\u001b[0m\u001b[90m─\u001b[0m\u001b[90m─\u001b[0m\u001b[90m─\u001b[0m\u001b[90m─\u001b[0m\u001b[90m─\u001b[0m\u001b[90m─\u001b[0m\u001b[90m─\u001b[0m\u001b[90m─\u001b[0m\u001b[90m─\u001b[0m\u001b[90m─\u001b[0m\u001b[90m─\u001b[0m\u001b[90m─\u001b[0m\u001b[90m┤\u001b[0m\u001b[90m\n",
      "\u001b[0m\u001b[90m│\u001b[0m\u001b[90m \u001b[0m3 rows\u001b[90m                                                                                              \u001b[0m37 columns (7 shown)\u001b[90m \u001b[0m\u001b[90m│\u001b[0m\u001b[90m\n",
      "\u001b[0m\u001b[90m└\u001b[0m\u001b[90m─\u001b[0m\u001b[90m─\u001b[0m\u001b[90m─\u001b[0m\u001b[90m─\u001b[0m\u001b[90m─\u001b[0m\u001b[90m─\u001b[0m\u001b[90m─\u001b[0m\u001b[90m─\u001b[0m\u001b[90m─\u001b[0m\u001b[90m─\u001b[0m\u001b[90m─\u001b[0m\u001b[90m─\u001b[0m\u001b[90m─\u001b[0m\u001b[90m─\u001b[0m\u001b[90m─\u001b[0m\u001b[90m─\u001b[0m\u001b[90m─\u001b[0m\u001b[90m─\u001b[0m\u001b[90m─\u001b[0m\u001b[90m─\u001b[0m\u001b[90m─\u001b[0m\u001b[90m─\u001b[0m\u001b[90m─\u001b[0m\u001b[90m─\u001b[0m\u001b[90m─\u001b[0m\u001b[90m─\u001b[0m\u001b[90m─\u001b[0m\u001b[90m─\u001b[0m\u001b[90m─\u001b[0m\u001b[90m─\u001b[0m\u001b[90m─\u001b[0m\u001b[90m─\u001b[0m\u001b[90m─\u001b[0m\u001b[90m─\u001b[0m\u001b[90m─\u001b[0m\u001b[90m─\u001b[0m\u001b[90m─\u001b[0m\u001b[90m─\u001b[0m\u001b[90m─\u001b[0m\u001b[90m─\u001b[0m\u001b[90m─\u001b[0m\u001b[90m─\u001b[0m\u001b[90m─\u001b[0m\u001b[90m─\u001b[0m\u001b[90m─\u001b[0m\u001b[90m─\u001b[0m\u001b[90m─\u001b[0m\u001b[90m─\u001b[0m\u001b[90m─\u001b[0m\u001b[90m─\u001b[0m\u001b[90m─\u001b[0m\u001b[90m─\u001b[0m\u001b[90m─\u001b[0m\u001b[90m─\u001b[0m\u001b[90m─\u001b[0m\u001b[90m─\u001b[0m\u001b[90m─\u001b[0m\u001b[90m─\u001b[0m\u001b[90m─\u001b[0m\u001b[90m─\u001b[0m\u001b[90m─\u001b[0m\u001b[90m─\u001b[0m\u001b[90m─\u001b[0m\u001b[90m─\u001b[0m\u001b[90m─\u001b[0m\u001b[90m─\u001b[0m\u001b[90m─\u001b[0m\u001b[90m─\u001b[0m\u001b[90m─\u001b[0m\u001b[90m─\u001b[0m\u001b[90m─\u001b[0m\u001b[90m─\u001b[0m\u001b[90m─\u001b[0m\u001b[90m─\u001b[0m\u001b[90m─\u001b[0m\u001b[90m─\u001b[0m\u001b[90m─\u001b[0m\u001b[90m─\u001b[0m\u001b[90m─\u001b[0m\u001b[90m─\u001b[0m\u001b[90m─\u001b[0m\u001b[90m─\u001b[0m\u001b[90m─\u001b[0m\u001b[90m─\u001b[0m\u001b[90m─\u001b[0m\u001b[90m─\u001b[0m\u001b[90m─\u001b[0m\u001b[90m─\u001b[0m\u001b[90m─\u001b[0m\u001b[90m─\u001b[0m\u001b[90m─\u001b[0m\u001b[90m─\u001b[0m\u001b[90m─\u001b[0m\u001b[90m─\u001b[0m\u001b[90m─\u001b[0m\u001b[90m─\u001b[0m\u001b[90m─\u001b[0m\u001b[90m─\u001b[0m\u001b[90m─\u001b[0m\u001b[90m─\u001b[0m\u001b[90m─\u001b[0m\u001b[90m─\u001b[0m\u001b[90m─\u001b[0m\u001b[90m─\u001b[0m\u001b[90m─\u001b[0m\u001b[90m─\u001b[0m\u001b[90m─\u001b[0m\u001b[90m─\u001b[0m\u001b[90m─\u001b[0m\u001b[90m─\u001b[0m\u001b[90m─\u001b[0m\u001b[90m─\u001b[0m\u001b[90m─\u001b[0m\u001b[90m─\u001b[0m\u001b[90m─\u001b[0m\u001b[90m─\u001b[0m\u001b[90m─\u001b[0m\u001b[90m─\u001b[0m\u001b[90m─\u001b[0m\u001b[90m─\u001b[0m\u001b[90m─\u001b[0m\u001b[90m─\u001b[0m\u001b[90m┘\u001b[0m\u001b[90m\n",
      "\u001b[0m"
     ]
    }
   ],
   "source": [
    "!echo \"select * from sql_data.family limit 3;\" | duckdb ../sql_database_example.duckdb"
   ]
  },
  {
   "cell_type": "markdown",
   "metadata": {},
   "source": [
    "That's it! Just like that, we loaded real-life data from a MySQL database into our local DuckDB instance*.\n",
    "\n",
    "*Note that this is a public database and so we didn't have to specify any credentials. We'll learn about those later in the workshop."
   ]
  },
  {
   "cell_type": "markdown",
   "metadata": {},
   "source": [
    "### 3.3 Pipelines\n",
    "\n",
    "In `dlt`, a pipeline describes the flow of data from resource(s) to a destination. Each pipeline loads resources to a single destination.\n",
    "\n",
    "Pipelines can be reused to ingest different resources each run. For example, we can have one “Postgres to S3” pipeline, but ingest each Postgres table separately due to different scheduling or configuration needs.\n",
    "\n",
    "A pipeline definition contains pipeline- or pipeline run-specific destination configuration, as well as settings for the load phase of the ingestion. Under the hood, a pipeline run (`pipeline.run()`) executes each pipeline step: extract (`pipeline.extract()`), normalize (`pipeline.normalize()`), and load (`pipeline.load()`).\n",
    "\n",
    "Let's use this knowledge to better control our destination configuration - in this case, we'll control the name of the DuckDB database where the data will be loaded."
   ]
  },
  {
   "cell_type": "code",
   "execution_count": 16,
   "metadata": {
    "vscode": {
     "languageId": "shellscript"
    }
   },
   "outputs": [
    {
     "name": "stdout",
     "output_type": "stream",
     "text": [
      "Pipeline dummy_source_to_duckdb load step completed in 0.24 seconds\n",
      "1 load package(s) were loaded to destination duckdb and into dataset mydata\n",
      "The duckdb destination used duckdb:////workspaces/edp-workshop/db.duckdb location to store data\n",
      "Load package 1742376576.7059135 is LOADED and contains no failed jobs\n"
     ]
    }
   ],
   "source": [
    "import dlt\n",
    "\n",
    "\n",
    "@dlt.source\n",
    "def dummy_data():\n",
    "    @dlt.resource(table_name=\"person\")\n",
    "    def people():\n",
    "        yield [\n",
    "            {\"id\": \"1\", \"name\": \"Warren Buffet\", \"country\": \"USA\"},\n",
    "            {\"id\": \"2\", \"name\": \"Jack Ma\", \"country\": \"China\"},\n",
    "            {\"id\": \"3\", \"name\": \"Rafal Brzoska\", \"country\": \"Poland\"},\n",
    "        ]\n",
    "\n",
    "    @dlt.resource(table_name=\"country\")\n",
    "    def countries():\n",
    "        yield [\n",
    "            {\"id\": \"1\", \"name\": \"USA\", \"population\": 331449281},\n",
    "            {\"id\": \"2\", \"name\": \"China\", \"population\": 1444216107},\n",
    "            {\"id\": \"3\", \"name\": \"Poland\", \"population\": 37846611},\n",
    "        ]\n",
    "\n",
    "    return people, countries\n",
    "\n",
    "\n",
    "pipeline = dlt.pipeline(\n",
    "    pipeline_name=\"dummy_source_to_duckdb\",\n",
    "    destination=dlt.destinations.duckdb(\"db.duckdb\"), # NOTE: we renamed the db here.\n",
    "    dataset_name=\"mydata\",\n",
    ")\n",
    "\n",
    "if __name__ == \"__main__\":\n",
    "    load_info = pipeline.run(data=dummy_data())\n",
    "\n",
    "print(load_info)"
   ]
  },
  {
   "cell_type": "markdown",
   "metadata": {},
   "source": [
    "#### Inspecting data in the destination\n",
    "\n",
    "`dlt` offers two main built-in ways to inspect the data in the destination, SQL client and datasets.\n",
    "\n",
    "##### SQL client"
   ]
  },
  {
   "cell_type": "code",
   "execution_count": 19,
   "metadata": {
    "vscode": {
     "languageId": "shellscript"
    }
   },
   "outputs": [],
   "source": [
    "%%capture\n",
    "\n",
    "# Install required dependencies for the SQL client.\n",
    "!uv add pandas"
   ]
  },
  {
   "cell_type": "code",
   "execution_count": null,
   "metadata": {
    "vscode": {
     "languageId": "shellscript"
    }
   },
   "outputs": [
    {
     "data": {
      "text/html": [
       "<div>\n",
       "<style scoped>\n",
       "    .dataframe tbody tr th:only-of-type {\n",
       "        vertical-align: middle;\n",
       "    }\n",
       "\n",
       "    .dataframe tbody tr th {\n",
       "        vertical-align: top;\n",
       "    }\n",
       "\n",
       "    .dataframe thead th {\n",
       "        text-align: right;\n",
       "    }\n",
       "</style>\n",
       "<table border=\"1\" class=\"dataframe\">\n",
       "  <thead>\n",
       "    <tr style=\"text-align: right;\">\n",
       "      <th></th>\n",
       "      <th>id</th>\n",
       "      <th>name</th>\n",
       "      <th>country</th>\n",
       "      <th>_dlt_load_id</th>\n",
       "      <th>_dlt_id</th>\n",
       "    </tr>\n",
       "  </thead>\n",
       "  <tbody>\n",
       "    <tr>\n",
       "      <th>0</th>\n",
       "      <td>1</td>\n",
       "      <td>Warren Buffet</td>\n",
       "      <td>USA</td>\n",
       "      <td>1742376576.7059135</td>\n",
       "      <td>VErrKTHuqp5UeA</td>\n",
       "    </tr>\n",
       "    <tr>\n",
       "      <th>1</th>\n",
       "      <td>2</td>\n",
       "      <td>Jack Ma</td>\n",
       "      <td>China</td>\n",
       "      <td>1742376576.7059135</td>\n",
       "      <td>AexicFW7y3LwOQ</td>\n",
       "    </tr>\n",
       "    <tr>\n",
       "      <th>2</th>\n",
       "      <td>3</td>\n",
       "      <td>Rafal Brzoska</td>\n",
       "      <td>Poland</td>\n",
       "      <td>1742376576.7059135</td>\n",
       "      <td>cNUGMrmkTi2Pjw</td>\n",
       "    </tr>\n",
       "  </tbody>\n",
       "</table>\n",
       "</div>"
      ],
      "text/plain": [
       "  id           name country        _dlt_load_id         _dlt_id\n",
       "0  1  Warren Buffet     USA  1742376576.7059135  VErrKTHuqp5UeA\n",
       "1  2        Jack Ma   China  1742376576.7059135  AexicFW7y3LwOQ\n",
       "2  3  Rafal Brzoska  Poland  1742376576.7059135  cNUGMrmkTi2Pjw"
      ]
     },
     "execution_count": 20,
     "metadata": {},
     "output_type": "execute_result"
    }
   ],
   "source": [
    "with pipeline.sql_client() as client:\n",
    "    with client.execute_query(\"SELECT * FROM mydata.person\") as cursor:\n",
    "        data = cursor.df()\n",
    "\n",
    "data"
   ]
  },
  {
   "cell_type": "markdown",
   "metadata": {
    "vscode": {
     "languageId": "shellscript"
    }
   },
   "source": [
    "##### Dataset"
   ]
  },
  {
   "cell_type": "code",
   "execution_count": 23,
   "metadata": {
    "vscode": {
     "languageId": "shellscript"
    }
   },
   "outputs": [
    {
     "data": {
      "text/html": [
       "<div>\n",
       "<style scoped>\n",
       "    .dataframe tbody tr th:only-of-type {\n",
       "        vertical-align: middle;\n",
       "    }\n",
       "\n",
       "    .dataframe tbody tr th {\n",
       "        vertical-align: top;\n",
       "    }\n",
       "\n",
       "    .dataframe thead th {\n",
       "        text-align: right;\n",
       "    }\n",
       "</style>\n",
       "<table border=\"1\" class=\"dataframe\">\n",
       "  <thead>\n",
       "    <tr style=\"text-align: right;\">\n",
       "      <th></th>\n",
       "      <th>id</th>\n",
       "      <th>name</th>\n",
       "      <th>population</th>\n",
       "      <th>_dlt_load_id</th>\n",
       "      <th>_dlt_id</th>\n",
       "    </tr>\n",
       "  </thead>\n",
       "  <tbody>\n",
       "    <tr>\n",
       "      <th>0</th>\n",
       "      <td>1</td>\n",
       "      <td>USA</td>\n",
       "      <td>331449281</td>\n",
       "      <td>1742376576.7059135</td>\n",
       "      <td>RqI7Ai7vZ2GFow</td>\n",
       "    </tr>\n",
       "    <tr>\n",
       "      <th>1</th>\n",
       "      <td>2</td>\n",
       "      <td>China</td>\n",
       "      <td>1444216107</td>\n",
       "      <td>1742376576.7059135</td>\n",
       "      <td>IINegGQJ+hc4Og</td>\n",
       "    </tr>\n",
       "    <tr>\n",
       "      <th>2</th>\n",
       "      <td>3</td>\n",
       "      <td>Poland</td>\n",
       "      <td>37846611</td>\n",
       "      <td>1742376576.7059135</td>\n",
       "      <td>I1+swwZUv2YHww</td>\n",
       "    </tr>\n",
       "  </tbody>\n",
       "</table>\n",
       "</div>"
      ],
      "text/plain": [
       "  id    name  population        _dlt_load_id         _dlt_id\n",
       "0  1     USA   331449281  1742376576.7059135  RqI7Ai7vZ2GFow\n",
       "1  2   China  1444216107  1742376576.7059135  IINegGQJ+hc4Og\n",
       "2  3  Poland    37846611  1742376576.7059135  I1+swwZUv2YHww"
      ]
     },
     "execution_count": 23,
     "metadata": {},
     "output_type": "execute_result"
    }
   ],
   "source": [
    "dataset = pipeline.dataset(dataset_type=\"default\")\n",
    "dataset.country.df()"
   ]
  },
  {
   "cell_type": "markdown",
   "metadata": {},
   "source": [
    "## 4. Exercise\n",
    "\n",
    "Let's now use all of the knowledge we've gained to build a pipeline that loads data from two CSV files into a DuckDB database:\n",
    "\n",
    "- define a source, `csvs`, that will contain CSV file resources\n",
    "- use provided two util functions to define two resources, `iris` and `wine`\n",
    "- define a pipeline that will load the resources into a `bronze` schema in a `csvs.duckdb` DuckdDB database"
   ]
  },
  {
   "cell_type": "code",
   "execution_count": null,
   "metadata": {
    "vscode": {
     "languageId": "shellscript"
    }
   },
   "outputs": [
    {
     "data": {
      "text/plain": [
       "Ellipsis"
      ]
     },
     "execution_count": 25,
     "metadata": {},
     "output_type": "execute_result"
    }
   ],
   "source": [
    "# Your solution here.\n",
    "import dlt\n",
    "import pandas as pd\n",
    "\n",
    "\n",
    "def read_iris():\n",
    "    url = \"https://archive.ics.uci.edu/ml/machine-learning-databases/iris/iris.data\"\n",
    "    col_names = ['Sepal_Length','Sepal_Width','Petal_Length','Petal_Width','Class']\n",
    "    return pd.read_csv(url, names=col_names).to_dict(orient=\"records\")\n",
    "\n",
    "\n",
    "def read_wine():\n",
    "    url = \"https://archive.ics.uci.edu/ml/machine-learning-databases/wine/wine.data\"\n",
    "    col_names = [\n",
    "        \"fixed_acidity\",\n",
    "        \"volatile_acidity\",\n",
    "        \"citric_acid\",\n",
    "        \"residual_sugar\",\n",
    "        \"chlorides\",\n",
    "        \"free_sulfur_dioxide\",\n",
    "        \"total_sulfur_dioxide\",\n",
    "        \"density\",\n",
    "        \"pH\",\n",
    "        \"sulphates\",\n",
    "        \"alcohol\",\n",
    "        \"quality\",\n",
    "        \"color\",\n",
    "    ]\n",
    "    return pd.read_csv(url, names=col_names).to_dict(orient=\"records\")\n",
    "\n",
    "# Define the resource.\n",
    "...\n",
    "\n",
    "# Define the pipeline.\n",
    "...\n",
    "\n",
    "if __name__ == \"__main__\":\n",
    "    # Run the pipeline and print load info.\n",
    "    ..."
   ]
  },
  {
   "cell_type": "markdown",
   "metadata": {},
   "source": [
    "#### Solution\n",
    "\n",
    "Do not execute or peek!"
   ]
  },
  {
   "cell_type": "code",
   "execution_count": 79,
   "metadata": {},
   "outputs": [
    {
     "name": "stdout",
     "output_type": "stream",
     "text": [
      "Pipeline dummy_source_to_duckdb load step completed in 0.27 seconds\n",
      "1 load package(s) were loaded to destination duckdb and into dataset bronze\n",
      "The duckdb destination used duckdb:////workspaces/edp-workshop/csvs.duckdb location to store data\n",
      "Load package 1742380861.9593136 is LOADED and contains no failed jobs\n"
     ]
    }
   ],
   "source": [
    "import dlt\n",
    "import pandas as pd\n",
    "\n",
    "\n",
    "def read_iris():\n",
    "    url = \"https://archive.ics.uci.edu/ml/machine-learning-databases/iris/iris.data\"\n",
    "    col_names = ['Sepal_Length','Sepal_Width','Petal_Length','Petal_Width','Class']\n",
    "    return pd.read_csv(url, names=col_names).to_dict(orient=\"records\")\n",
    "\n",
    "\n",
    "def read_wine():\n",
    "    url = \"https://archive.ics.uci.edu/ml/machine-learning-databases/wine/wine.data\"\n",
    "    col_names = [\n",
    "        \"fixed_acidity\",\n",
    "        \"volatile_acidity\",\n",
    "        \"citric_acid\",\n",
    "        \"residual_sugar\",\n",
    "        \"chlorides\",\n",
    "        \"free_sulfur_dioxide\",\n",
    "        \"total_sulfur_dioxide\",\n",
    "        \"density\",\n",
    "        \"pH\",\n",
    "        \"sulphates\",\n",
    "        \"alcohol\",\n",
    "        \"quality\",\n",
    "        \"color\",\n",
    "    ]\n",
    "    return pd.read_csv(url, names=col_names).to_dict(orient=\"records\")\n",
    "\n",
    "\n",
    "# NOTE: By default, dlt uses the name of the resource as the name of the destination\n",
    "# table.\n",
    "@dlt.source\n",
    "def csvs():\n",
    "    @dlt.resource()\n",
    "    def iris():\n",
    "        yield read_iris()\n",
    "\n",
    "    @dlt.resource()\n",
    "    def wine():\n",
    "        yield read_wine()\n",
    "\n",
    "    return iris, wine\n",
    "\n",
    "\n",
    "pipeline = dlt.pipeline(\n",
    "    pipeline_name=\"dummy_source_to_duckdb\",\n",
    "    destination=dlt.destinations.duckdb(\"csvs.duckdb\"),\n",
    "    dataset_name=\"bronze\",\n",
    ")\n",
    "\n",
    "if __name__ == \"__main__\":\n",
    "    load_info = pipeline.run(csvs())\n",
    "\n",
    "print(load_info)"
   ]
  },
  {
   "cell_type": "markdown",
   "metadata": {},
   "source": [
    "If everything went well, we should be able to query the data now:"
   ]
  },
  {
   "cell_type": "code",
   "execution_count": 80,
   "metadata": {
    "vscode": {
     "languageId": "shellscript"
    }
   },
   "outputs": [
    {
     "name": "stdout",
     "output_type": "stream",
     "text": [
      "\u001b[90m┌\u001b[0m\u001b[90m─\u001b[0m\u001b[90m─\u001b[0m\u001b[90m─\u001b[0m\u001b[90m─\u001b[0m\u001b[90m─\u001b[0m\u001b[90m─\u001b[0m\u001b[90m─\u001b[0m\u001b[90m─\u001b[0m\u001b[90m─\u001b[0m\u001b[90m─\u001b[0m\u001b[90m─\u001b[0m\u001b[90m─\u001b[0m\u001b[90m─\u001b[0m\u001b[90m─\u001b[0m\u001b[90m┬\u001b[0m\u001b[90m─\u001b[0m\u001b[90m─\u001b[0m\u001b[90m─\u001b[0m\u001b[90m─\u001b[0m\u001b[90m─\u001b[0m\u001b[90m─\u001b[0m\u001b[90m─\u001b[0m\u001b[90m─\u001b[0m\u001b[90m─\u001b[0m\u001b[90m─\u001b[0m\u001b[90m─\u001b[0m\u001b[90m─\u001b[0m\u001b[90m─\u001b[0m\u001b[90m┬\u001b[0m\u001b[90m─\u001b[0m\u001b[90m─\u001b[0m\u001b[90m─\u001b[0m\u001b[90m─\u001b[0m\u001b[90m─\u001b[0m\u001b[90m─\u001b[0m\u001b[90m─\u001b[0m\u001b[90m─\u001b[0m\u001b[90m─\u001b[0m\u001b[90m─\u001b[0m\u001b[90m─\u001b[0m\u001b[90m─\u001b[0m\u001b[90m─\u001b[0m\u001b[90m─\u001b[0m\u001b[90m┬\u001b[0m\u001b[90m─\u001b[0m\u001b[90m─\u001b[0m\u001b[90m─\u001b[0m\u001b[90m─\u001b[0m\u001b[90m─\u001b[0m\u001b[90m─\u001b[0m\u001b[90m─\u001b[0m\u001b[90m─\u001b[0m\u001b[90m─\u001b[0m\u001b[90m─\u001b[0m\u001b[90m─\u001b[0m\u001b[90m─\u001b[0m\u001b[90m─\u001b[0m\u001b[90m┬\u001b[0m\u001b[90m─\u001b[0m\u001b[90m─\u001b[0m\u001b[90m─\u001b[0m\u001b[90m─\u001b[0m\u001b[90m─\u001b[0m\u001b[90m─\u001b[0m\u001b[90m─\u001b[0m\u001b[90m─\u001b[0m\u001b[90m─\u001b[0m\u001b[90m─\u001b[0m\u001b[90m─\u001b[0m\u001b[90m─\u001b[0m\u001b[90m─\u001b[0m\u001b[90m┬\u001b[0m\u001b[90m─\u001b[0m\u001b[90m─\u001b[0m\u001b[90m─\u001b[0m\u001b[90m─\u001b[0m\u001b[90m─\u001b[0m\u001b[90m─\u001b[0m\u001b[90m─\u001b[0m\u001b[90m─\u001b[0m\u001b[90m─\u001b[0m\u001b[90m─\u001b[0m\u001b[90m─\u001b[0m\u001b[90m─\u001b[0m\u001b[90m─\u001b[0m\u001b[90m─\u001b[0m\u001b[90m─\u001b[0m\u001b[90m─\u001b[0m\u001b[90m─\u001b[0m\u001b[90m─\u001b[0m\u001b[90m─\u001b[0m\u001b[90m─\u001b[0m\u001b[90m┬\u001b[0m\u001b[90m─\u001b[0m\u001b[90m─\u001b[0m\u001b[90m─\u001b[0m\u001b[90m─\u001b[0m\u001b[90m─\u001b[0m\u001b[90m─\u001b[0m\u001b[90m─\u001b[0m\u001b[90m─\u001b[0m\u001b[90m─\u001b[0m\u001b[90m─\u001b[0m\u001b[90m─\u001b[0m\u001b[90m─\u001b[0m\u001b[90m─\u001b[0m\u001b[90m─\u001b[0m\u001b[90m─\u001b[0m\u001b[90m─\u001b[0m\u001b[90m┐\u001b[0m\u001b[90m\n",
      "\u001b[0m\u001b[90m│\u001b[0m\u001b[90m \u001b[0msepal_length\u001b[90m \u001b[0m\u001b[90m│\u001b[0m\u001b[90m \u001b[0msepal_width\u001b[90m \u001b[0m\u001b[90m│\u001b[0m\u001b[90m \u001b[0mpetal_length\u001b[90m \u001b[0m\u001b[90m│\u001b[0m\u001b[90m \u001b[0mpetal_width\u001b[90m \u001b[0m\u001b[90m│\u001b[0m\u001b[90m    \u001b[0mclass\u001b[90m    \u001b[0m\u001b[90m│\u001b[0m\u001b[90m    \u001b[0m_dlt_load_id\u001b[90m    \u001b[0m\u001b[90m│\u001b[0m\u001b[90m    \u001b[0m_dlt_id\u001b[90m     \u001b[0m\u001b[90m│\u001b[0m\u001b[90m\n",
      "\u001b[0m\u001b[90m│\u001b[0m\u001b[90m    \u001b[0mdouble\u001b[90m    \u001b[0m\u001b[90m│\u001b[0m\u001b[90m   \u001b[0mdouble\u001b[90m    \u001b[0m\u001b[90m│\u001b[0m\u001b[90m    \u001b[0mdouble\u001b[90m    \u001b[0m\u001b[90m│\u001b[0m\u001b[90m   \u001b[0mdouble\u001b[90m    \u001b[0m\u001b[90m│\u001b[0m\u001b[90m   \u001b[0mvarchar\u001b[90m   \u001b[0m\u001b[90m│\u001b[0m\u001b[90m      \u001b[0mvarchar\u001b[90m       \u001b[0m\u001b[90m│\u001b[0m\u001b[90m    \u001b[0mvarchar\u001b[90m     \u001b[0m\u001b[90m│\u001b[0m\u001b[90m\n",
      "\u001b[0m\u001b[90m├\u001b[0m\u001b[90m─\u001b[0m\u001b[90m─\u001b[0m\u001b[90m─\u001b[0m\u001b[90m─\u001b[0m\u001b[90m─\u001b[0m\u001b[90m─\u001b[0m\u001b[90m─\u001b[0m\u001b[90m─\u001b[0m\u001b[90m─\u001b[0m\u001b[90m─\u001b[0m\u001b[90m─\u001b[0m\u001b[90m─\u001b[0m\u001b[90m─\u001b[0m\u001b[90m─\u001b[0m\u001b[90m┼\u001b[0m\u001b[90m─\u001b[0m\u001b[90m─\u001b[0m\u001b[90m─\u001b[0m\u001b[90m─\u001b[0m\u001b[90m─\u001b[0m\u001b[90m─\u001b[0m\u001b[90m─\u001b[0m\u001b[90m─\u001b[0m\u001b[90m─\u001b[0m\u001b[90m─\u001b[0m\u001b[90m─\u001b[0m\u001b[90m─\u001b[0m\u001b[90m─\u001b[0m\u001b[90m┼\u001b[0m\u001b[90m─\u001b[0m\u001b[90m─\u001b[0m\u001b[90m─\u001b[0m\u001b[90m─\u001b[0m\u001b[90m─\u001b[0m\u001b[90m─\u001b[0m\u001b[90m─\u001b[0m\u001b[90m─\u001b[0m\u001b[90m─\u001b[0m\u001b[90m─\u001b[0m\u001b[90m─\u001b[0m\u001b[90m─\u001b[0m\u001b[90m─\u001b[0m\u001b[90m─\u001b[0m\u001b[90m┼\u001b[0m\u001b[90m─\u001b[0m\u001b[90m─\u001b[0m\u001b[90m─\u001b[0m\u001b[90m─\u001b[0m\u001b[90m─\u001b[0m\u001b[90m─\u001b[0m\u001b[90m─\u001b[0m\u001b[90m─\u001b[0m\u001b[90m─\u001b[0m\u001b[90m─\u001b[0m\u001b[90m─\u001b[0m\u001b[90m─\u001b[0m\u001b[90m─\u001b[0m\u001b[90m┼\u001b[0m\u001b[90m─\u001b[0m\u001b[90m─\u001b[0m\u001b[90m─\u001b[0m\u001b[90m─\u001b[0m\u001b[90m─\u001b[0m\u001b[90m─\u001b[0m\u001b[90m─\u001b[0m\u001b[90m─\u001b[0m\u001b[90m─\u001b[0m\u001b[90m─\u001b[0m\u001b[90m─\u001b[0m\u001b[90m─\u001b[0m\u001b[90m─\u001b[0m\u001b[90m┼\u001b[0m\u001b[90m─\u001b[0m\u001b[90m─\u001b[0m\u001b[90m─\u001b[0m\u001b[90m─\u001b[0m\u001b[90m─\u001b[0m\u001b[90m─\u001b[0m\u001b[90m─\u001b[0m\u001b[90m─\u001b[0m\u001b[90m─\u001b[0m\u001b[90m─\u001b[0m\u001b[90m─\u001b[0m\u001b[90m─\u001b[0m\u001b[90m─\u001b[0m\u001b[90m─\u001b[0m\u001b[90m─\u001b[0m\u001b[90m─\u001b[0m\u001b[90m─\u001b[0m\u001b[90m─\u001b[0m\u001b[90m─\u001b[0m\u001b[90m─\u001b[0m\u001b[90m┼\u001b[0m\u001b[90m─\u001b[0m\u001b[90m─\u001b[0m\u001b[90m─\u001b[0m\u001b[90m─\u001b[0m\u001b[90m─\u001b[0m\u001b[90m─\u001b[0m\u001b[90m─\u001b[0m\u001b[90m─\u001b[0m\u001b[90m─\u001b[0m\u001b[90m─\u001b[0m\u001b[90m─\u001b[0m\u001b[90m─\u001b[0m\u001b[90m─\u001b[0m\u001b[90m─\u001b[0m\u001b[90m─\u001b[0m\u001b[90m─\u001b[0m\u001b[90m┤\u001b[0m\u001b[90m\n",
      "\u001b[0m\u001b[90m│\u001b[0m\u001b[90m          \u001b[0m5.1\u001b[90m \u001b[0m\u001b[90m│\u001b[0m\u001b[90m         \u001b[0m3.5\u001b[90m \u001b[0m\u001b[90m│\u001b[0m\u001b[90m          \u001b[0m1.4\u001b[90m \u001b[0m\u001b[90m│\u001b[0m\u001b[90m         \u001b[0m0.2\u001b[90m \u001b[0m\u001b[90m│\u001b[0m\u001b[90m \u001b[0mIris-setosa\u001b[90m \u001b[0m\u001b[90m│\u001b[0m\u001b[90m \u001b[0m1742380861.9593136\u001b[90m \u001b[0m\u001b[90m│\u001b[0m\u001b[90m \u001b[0mhuuC9VWEUVsMyA\u001b[90m \u001b[0m\u001b[90m│\u001b[0m\u001b[90m\n",
      "\u001b[0m\u001b[90m│\u001b[0m\u001b[90m          \u001b[0m4.9\u001b[90m \u001b[0m\u001b[90m│\u001b[0m\u001b[90m         \u001b[0m3.0\u001b[90m \u001b[0m\u001b[90m│\u001b[0m\u001b[90m          \u001b[0m1.4\u001b[90m \u001b[0m\u001b[90m│\u001b[0m\u001b[90m         \u001b[0m0.2\u001b[90m \u001b[0m\u001b[90m│\u001b[0m\u001b[90m \u001b[0mIris-setosa\u001b[90m \u001b[0m\u001b[90m│\u001b[0m\u001b[90m \u001b[0m1742380861.9593136\u001b[90m \u001b[0m\u001b[90m│\u001b[0m\u001b[90m \u001b[0mk+Psl0l+gB0qLA\u001b[90m \u001b[0m\u001b[90m│\u001b[0m\u001b[90m\n",
      "\u001b[0m\u001b[90m│\u001b[0m\u001b[90m          \u001b[0m4.7\u001b[90m \u001b[0m\u001b[90m│\u001b[0m\u001b[90m         \u001b[0m3.2\u001b[90m \u001b[0m\u001b[90m│\u001b[0m\u001b[90m          \u001b[0m1.3\u001b[90m \u001b[0m\u001b[90m│\u001b[0m\u001b[90m         \u001b[0m0.2\u001b[90m \u001b[0m\u001b[90m│\u001b[0m\u001b[90m \u001b[0mIris-setosa\u001b[90m \u001b[0m\u001b[90m│\u001b[0m\u001b[90m \u001b[0m1742380861.9593136\u001b[90m \u001b[0m\u001b[90m│\u001b[0m\u001b[90m \u001b[0mJ4zDkQRIQ9xSsA\u001b[90m \u001b[0m\u001b[90m│\u001b[0m\u001b[90m\n",
      "\u001b[0m\u001b[90m└\u001b[0m\u001b[90m─\u001b[0m\u001b[90m─\u001b[0m\u001b[90m─\u001b[0m\u001b[90m─\u001b[0m\u001b[90m─\u001b[0m\u001b[90m─\u001b[0m\u001b[90m─\u001b[0m\u001b[90m─\u001b[0m\u001b[90m─\u001b[0m\u001b[90m─\u001b[0m\u001b[90m─\u001b[0m\u001b[90m─\u001b[0m\u001b[90m─\u001b[0m\u001b[90m─\u001b[0m\u001b[90m┴\u001b[0m\u001b[90m─\u001b[0m\u001b[90m─\u001b[0m\u001b[90m─\u001b[0m\u001b[90m─\u001b[0m\u001b[90m─\u001b[0m\u001b[90m─\u001b[0m\u001b[90m─\u001b[0m\u001b[90m─\u001b[0m\u001b[90m─\u001b[0m\u001b[90m─\u001b[0m\u001b[90m─\u001b[0m\u001b[90m─\u001b[0m\u001b[90m─\u001b[0m\u001b[90m┴\u001b[0m\u001b[90m─\u001b[0m\u001b[90m─\u001b[0m\u001b[90m─\u001b[0m\u001b[90m─\u001b[0m\u001b[90m─\u001b[0m\u001b[90m─\u001b[0m\u001b[90m─\u001b[0m\u001b[90m─\u001b[0m\u001b[90m─\u001b[0m\u001b[90m─\u001b[0m\u001b[90m─\u001b[0m\u001b[90m─\u001b[0m\u001b[90m─\u001b[0m\u001b[90m─\u001b[0m\u001b[90m┴\u001b[0m\u001b[90m─\u001b[0m\u001b[90m─\u001b[0m\u001b[90m─\u001b[0m\u001b[90m─\u001b[0m\u001b[90m─\u001b[0m\u001b[90m─\u001b[0m\u001b[90m─\u001b[0m\u001b[90m─\u001b[0m\u001b[90m─\u001b[0m\u001b[90m─\u001b[0m\u001b[90m─\u001b[0m\u001b[90m─\u001b[0m\u001b[90m─\u001b[0m\u001b[90m┴\u001b[0m\u001b[90m─\u001b[0m\u001b[90m─\u001b[0m\u001b[90m─\u001b[0m\u001b[90m─\u001b[0m\u001b[90m─\u001b[0m\u001b[90m─\u001b[0m\u001b[90m─\u001b[0m\u001b[90m─\u001b[0m\u001b[90m─\u001b[0m\u001b[90m─\u001b[0m\u001b[90m─\u001b[0m\u001b[90m─\u001b[0m\u001b[90m─\u001b[0m\u001b[90m┴\u001b[0m\u001b[90m─\u001b[0m\u001b[90m─\u001b[0m\u001b[90m─\u001b[0m\u001b[90m─\u001b[0m\u001b[90m─\u001b[0m\u001b[90m─\u001b[0m\u001b[90m─\u001b[0m\u001b[90m─\u001b[0m\u001b[90m─\u001b[0m\u001b[90m─\u001b[0m\u001b[90m─\u001b[0m\u001b[90m─\u001b[0m\u001b[90m─\u001b[0m\u001b[90m─\u001b[0m\u001b[90m─\u001b[0m\u001b[90m─\u001b[0m\u001b[90m─\u001b[0m\u001b[90m─\u001b[0m\u001b[90m─\u001b[0m\u001b[90m─\u001b[0m\u001b[90m┴\u001b[0m\u001b[90m─\u001b[0m\u001b[90m─\u001b[0m\u001b[90m─\u001b[0m\u001b[90m─\u001b[0m\u001b[90m─\u001b[0m\u001b[90m─\u001b[0m\u001b[90m─\u001b[0m\u001b[90m─\u001b[0m\u001b[90m─\u001b[0m\u001b[90m─\u001b[0m\u001b[90m─\u001b[0m\u001b[90m─\u001b[0m\u001b[90m─\u001b[0m\u001b[90m─\u001b[0m\u001b[90m─\u001b[0m\u001b[90m─\u001b[0m\u001b[90m┘\u001b[0m\u001b[90m\n",
      "\u001b[0m"
     ]
    }
   ],
   "source": [
    "!echo \"select * from bronze.iris limit 3;\" | duckdb ../csvs.duckdb"
   ]
  },
  {
   "cell_type": "code",
   "execution_count": 81,
   "metadata": {
    "vscode": {
     "languageId": "shellscript"
    }
   },
   "outputs": [
    {
     "name": "stdout",
     "output_type": "stream",
     "text": [
      "\u001b[90m┌\u001b[0m\u001b[90m─\u001b[0m\u001b[90m─\u001b[0m\u001b[90m─\u001b[0m\u001b[90m─\u001b[0m\u001b[90m─\u001b[0m\u001b[90m─\u001b[0m\u001b[90m─\u001b[0m\u001b[90m─\u001b[0m\u001b[90m─\u001b[0m\u001b[90m─\u001b[0m\u001b[90m─\u001b[0m\u001b[90m─\u001b[0m\u001b[90m─\u001b[0m\u001b[90m─\u001b[0m\u001b[90m─\u001b[0m\u001b[90m┬\u001b[0m\u001b[90m─\u001b[0m\u001b[90m─\u001b[0m\u001b[90m─\u001b[0m\u001b[90m─\u001b[0m\u001b[90m─\u001b[0m\u001b[90m─\u001b[0m\u001b[90m─\u001b[0m\u001b[90m─\u001b[0m\u001b[90m─\u001b[0m\u001b[90m─\u001b[0m\u001b[90m─\u001b[0m\u001b[90m─\u001b[0m\u001b[90m─\u001b[0m\u001b[90m─\u001b[0m\u001b[90m─\u001b[0m\u001b[90m─\u001b[0m\u001b[90m─\u001b[0m\u001b[90m─\u001b[0m\u001b[90m┬\u001b[0m\u001b[90m─\u001b[0m\u001b[90m─\u001b[0m\u001b[90m─\u001b[0m\u001b[90m─\u001b[0m\u001b[90m─\u001b[0m\u001b[90m─\u001b[0m\u001b[90m─\u001b[0m\u001b[90m─\u001b[0m\u001b[90m─\u001b[0m\u001b[90m─\u001b[0m\u001b[90m─\u001b[0m\u001b[90m─\u001b[0m\u001b[90m─\u001b[0m\u001b[90m┬\u001b[0m\u001b[90m─\u001b[0m\u001b[90m─\u001b[0m\u001b[90m─\u001b[0m\u001b[90m─\u001b[0m\u001b[90m─\u001b[0m\u001b[90m─\u001b[0m\u001b[90m─\u001b[0m\u001b[90m─\u001b[0m\u001b[90m─\u001b[0m\u001b[90m─\u001b[0m\u001b[90m─\u001b[0m\u001b[90m─\u001b[0m\u001b[90m─\u001b[0m\u001b[90m─\u001b[0m\u001b[90m─\u001b[0m\u001b[90m─\u001b[0m\u001b[90m┬\u001b[0m\u001b[90m─\u001b[0m\u001b[90m─\u001b[0m\u001b[90m─\u001b[0m\u001b[90m┬\u001b[0m\u001b[90m─\u001b[0m\u001b[90m─\u001b[0m\u001b[90m─\u001b[0m\u001b[90m─\u001b[0m\u001b[90m─\u001b[0m\u001b[90m─\u001b[0m\u001b[90m─\u001b[0m\u001b[90m─\u001b[0m\u001b[90m─\u001b[0m\u001b[90m┬\u001b[0m\u001b[90m─\u001b[0m\u001b[90m─\u001b[0m\u001b[90m─\u001b[0m\u001b[90m─\u001b[0m\u001b[90m─\u001b[0m\u001b[90m─\u001b[0m\u001b[90m─\u001b[0m\u001b[90m─\u001b[0m\u001b[90m─\u001b[0m\u001b[90m┬\u001b[0m\u001b[90m─\u001b[0m\u001b[90m─\u001b[0m\u001b[90m─\u001b[0m\u001b[90m─\u001b[0m\u001b[90m─\u001b[0m\u001b[90m─\u001b[0m\u001b[90m─\u001b[0m\u001b[90m┬\u001b[0m\u001b[90m─\u001b[0m\u001b[90m─\u001b[0m\u001b[90m─\u001b[0m\u001b[90m─\u001b[0m\u001b[90m─\u001b[0m\u001b[90m─\u001b[0m\u001b[90m─\u001b[0m\u001b[90m─\u001b[0m\u001b[90m─\u001b[0m\u001b[90m─\u001b[0m\u001b[90m─\u001b[0m\u001b[90m─\u001b[0m\u001b[90m─\u001b[0m\u001b[90m─\u001b[0m\u001b[90m─\u001b[0m\u001b[90m─\u001b[0m\u001b[90m─\u001b[0m\u001b[90m─\u001b[0m\u001b[90m─\u001b[0m\u001b[90m─\u001b[0m\u001b[90m┬\u001b[0m\u001b[90m─\u001b[0m\u001b[90m─\u001b[0m\u001b[90m─\u001b[0m\u001b[90m─\u001b[0m\u001b[90m─\u001b[0m\u001b[90m─\u001b[0m\u001b[90m─\u001b[0m\u001b[90m─\u001b[0m\u001b[90m─\u001b[0m\u001b[90m─\u001b[0m\u001b[90m─\u001b[0m\u001b[90m─\u001b[0m\u001b[90m─\u001b[0m\u001b[90m─\u001b[0m\u001b[90m─\u001b[0m\u001b[90m─\u001b[0m\u001b[90m┐\u001b[0m\u001b[90m\n",
      "\u001b[0m\u001b[90m│\u001b[0m\u001b[90m \u001b[0mfixed_acidity\u001b[90m \u001b[0m\u001b[90m│\u001b[0m\u001b[90m \u001b[0mvolatile_acidity\u001b[90m \u001b[0m\u001b[90m│\u001b[0m\u001b[90m \u001b[0mcitric_acid\u001b[90m \u001b[0m\u001b[90m│\u001b[0m\u001b[90m \u001b[0mresidual_sugar\u001b[90m \u001b[0m\u001b[90m│\u001b[0m\u001b[90m \u001b[0m\u001b[90m…\u001b[0m\u001b[90m \u001b[0m\u001b[90m│\u001b[0m\u001b[90m \u001b[0malcohol\u001b[90m \u001b[0m\u001b[90m│\u001b[0m\u001b[90m \u001b[0mquality\u001b[90m \u001b[0m\u001b[90m│\u001b[0m\u001b[90m \u001b[0mcolor\u001b[90m \u001b[0m\u001b[90m│\u001b[0m\u001b[90m    \u001b[0m_dlt_load_id\u001b[90m    \u001b[0m\u001b[90m│\u001b[0m\u001b[90m    \u001b[0m_dlt_id\u001b[90m     \u001b[0m\u001b[90m│\u001b[0m\u001b[90m\n",
      "\u001b[0m\u001b[90m│\u001b[0m\u001b[90m    \u001b[0mdouble\u001b[90m     \u001b[0m\u001b[90m│\u001b[0m\u001b[90m      \u001b[0mdouble\u001b[90m      \u001b[0m\u001b[90m│\u001b[0m\u001b[90m   \u001b[0mdouble\u001b[90m    \u001b[0m\u001b[90m│\u001b[0m\u001b[90m     \u001b[0mdouble\u001b[90m     \u001b[0m\u001b[90m│\u001b[0m\u001b[90m \u001b[0m\u001b[90m\u001b[0m\u001b[90m  \u001b[0m\u001b[90m│\u001b[0m\u001b[90m \u001b[0mdouble\u001b[90m  \u001b[0m\u001b[90m│\u001b[0m\u001b[90m \u001b[0mdouble\u001b[90m  \u001b[0m\u001b[90m│\u001b[0m\u001b[90m \u001b[0mint64\u001b[90m \u001b[0m\u001b[90m│\u001b[0m\u001b[90m      \u001b[0mvarchar\u001b[90m       \u001b[0m\u001b[90m│\u001b[0m\u001b[90m    \u001b[0mvarchar\u001b[90m     \u001b[0m\u001b[90m│\u001b[0m\u001b[90m\n",
      "\u001b[0m\u001b[90m├\u001b[0m\u001b[90m─\u001b[0m\u001b[90m─\u001b[0m\u001b[90m─\u001b[0m\u001b[90m─\u001b[0m\u001b[90m─\u001b[0m\u001b[90m─\u001b[0m\u001b[90m─\u001b[0m\u001b[90m─\u001b[0m\u001b[90m─\u001b[0m\u001b[90m─\u001b[0m\u001b[90m─\u001b[0m\u001b[90m─\u001b[0m\u001b[90m─\u001b[0m\u001b[90m─\u001b[0m\u001b[90m─\u001b[0m\u001b[90m┼\u001b[0m\u001b[90m─\u001b[0m\u001b[90m─\u001b[0m\u001b[90m─\u001b[0m\u001b[90m─\u001b[0m\u001b[90m─\u001b[0m\u001b[90m─\u001b[0m\u001b[90m─\u001b[0m\u001b[90m─\u001b[0m\u001b[90m─\u001b[0m\u001b[90m─\u001b[0m\u001b[90m─\u001b[0m\u001b[90m─\u001b[0m\u001b[90m─\u001b[0m\u001b[90m─\u001b[0m\u001b[90m─\u001b[0m\u001b[90m─\u001b[0m\u001b[90m─\u001b[0m\u001b[90m─\u001b[0m\u001b[90m┼\u001b[0m\u001b[90m─\u001b[0m\u001b[90m─\u001b[0m\u001b[90m─\u001b[0m\u001b[90m─\u001b[0m\u001b[90m─\u001b[0m\u001b[90m─\u001b[0m\u001b[90m─\u001b[0m\u001b[90m─\u001b[0m\u001b[90m─\u001b[0m\u001b[90m─\u001b[0m\u001b[90m─\u001b[0m\u001b[90m─\u001b[0m\u001b[90m─\u001b[0m\u001b[90m┼\u001b[0m\u001b[90m─\u001b[0m\u001b[90m─\u001b[0m\u001b[90m─\u001b[0m\u001b[90m─\u001b[0m\u001b[90m─\u001b[0m\u001b[90m─\u001b[0m\u001b[90m─\u001b[0m\u001b[90m─\u001b[0m\u001b[90m─\u001b[0m\u001b[90m─\u001b[0m\u001b[90m─\u001b[0m\u001b[90m─\u001b[0m\u001b[90m─\u001b[0m\u001b[90m─\u001b[0m\u001b[90m─\u001b[0m\u001b[90m─\u001b[0m\u001b[90m┼\u001b[0m\u001b[90m─\u001b[0m\u001b[90m─\u001b[0m\u001b[90m─\u001b[0m\u001b[90m┼\u001b[0m\u001b[90m─\u001b[0m\u001b[90m─\u001b[0m\u001b[90m─\u001b[0m\u001b[90m─\u001b[0m\u001b[90m─\u001b[0m\u001b[90m─\u001b[0m\u001b[90m─\u001b[0m\u001b[90m─\u001b[0m\u001b[90m─\u001b[0m\u001b[90m┼\u001b[0m\u001b[90m─\u001b[0m\u001b[90m─\u001b[0m\u001b[90m─\u001b[0m\u001b[90m─\u001b[0m\u001b[90m─\u001b[0m\u001b[90m─\u001b[0m\u001b[90m─\u001b[0m\u001b[90m─\u001b[0m\u001b[90m─\u001b[0m\u001b[90m┼\u001b[0m\u001b[90m─\u001b[0m\u001b[90m─\u001b[0m\u001b[90m─\u001b[0m\u001b[90m─\u001b[0m\u001b[90m─\u001b[0m\u001b[90m─\u001b[0m\u001b[90m─\u001b[0m\u001b[90m┼\u001b[0m\u001b[90m─\u001b[0m\u001b[90m─\u001b[0m\u001b[90m─\u001b[0m\u001b[90m─\u001b[0m\u001b[90m─\u001b[0m\u001b[90m─\u001b[0m\u001b[90m─\u001b[0m\u001b[90m─\u001b[0m\u001b[90m─\u001b[0m\u001b[90m─\u001b[0m\u001b[90m─\u001b[0m\u001b[90m─\u001b[0m\u001b[90m─\u001b[0m\u001b[90m─\u001b[0m\u001b[90m─\u001b[0m\u001b[90m─\u001b[0m\u001b[90m─\u001b[0m\u001b[90m─\u001b[0m\u001b[90m─\u001b[0m\u001b[90m─\u001b[0m\u001b[90m┼\u001b[0m\u001b[90m─\u001b[0m\u001b[90m─\u001b[0m\u001b[90m─\u001b[0m\u001b[90m─\u001b[0m\u001b[90m─\u001b[0m\u001b[90m─\u001b[0m\u001b[90m─\u001b[0m\u001b[90m─\u001b[0m\u001b[90m─\u001b[0m\u001b[90m─\u001b[0m\u001b[90m─\u001b[0m\u001b[90m─\u001b[0m\u001b[90m─\u001b[0m\u001b[90m─\u001b[0m\u001b[90m─\u001b[0m\u001b[90m─\u001b[0m\u001b[90m┤\u001b[0m\u001b[90m\n",
      "\u001b[0m\u001b[90m│\u001b[0m\u001b[90m         \u001b[0m14.23\u001b[90m \u001b[0m\u001b[90m│\u001b[0m\u001b[90m             \u001b[0m1.71\u001b[90m \u001b[0m\u001b[90m│\u001b[0m\u001b[90m        \u001b[0m2.43\u001b[90m \u001b[0m\u001b[90m│\u001b[0m\u001b[90m           \u001b[0m15.6\u001b[90m \u001b[0m\u001b[90m│\u001b[0m\u001b[90m \u001b[0m\u001b[90m…\u001b[0m\u001b[90m \u001b[0m\u001b[90m│\u001b[0m\u001b[90m    \u001b[0m1.04\u001b[90m \u001b[0m\u001b[90m│\u001b[0m\u001b[90m    \u001b[0m3.92\u001b[90m \u001b[0m\u001b[90m│\u001b[0m\u001b[90m  \u001b[0m1065\u001b[90m \u001b[0m\u001b[90m│\u001b[0m\u001b[90m \u001b[0m1742380861.9593136\u001b[90m \u001b[0m\u001b[90m│\u001b[0m\u001b[90m \u001b[0meGnmNq4F9t/oaQ\u001b[90m \u001b[0m\u001b[90m│\u001b[0m\u001b[90m\n",
      "\u001b[0m\u001b[90m│\u001b[0m\u001b[90m          \u001b[0m13.2\u001b[90m \u001b[0m\u001b[90m│\u001b[0m\u001b[90m             \u001b[0m1.78\u001b[90m \u001b[0m\u001b[90m│\u001b[0m\u001b[90m        \u001b[0m2.14\u001b[90m \u001b[0m\u001b[90m│\u001b[0m\u001b[90m           \u001b[0m11.2\u001b[90m \u001b[0m\u001b[90m│\u001b[0m\u001b[90m \u001b[0m\u001b[90m…\u001b[0m\u001b[90m \u001b[0m\u001b[90m│\u001b[0m\u001b[90m    \u001b[0m1.05\u001b[90m \u001b[0m\u001b[90m│\u001b[0m\u001b[90m     \u001b[0m3.4\u001b[90m \u001b[0m\u001b[90m│\u001b[0m\u001b[90m  \u001b[0m1050\u001b[90m \u001b[0m\u001b[90m│\u001b[0m\u001b[90m \u001b[0m1742380861.9593136\u001b[90m \u001b[0m\u001b[90m│\u001b[0m\u001b[90m \u001b[0mBnqm7wzW+cOALw\u001b[90m \u001b[0m\u001b[90m│\u001b[0m\u001b[90m\n",
      "\u001b[0m\u001b[90m│\u001b[0m\u001b[90m         \u001b[0m13.16\u001b[90m \u001b[0m\u001b[90m│\u001b[0m\u001b[90m             \u001b[0m2.36\u001b[90m \u001b[0m\u001b[90m│\u001b[0m\u001b[90m        \u001b[0m2.67\u001b[90m \u001b[0m\u001b[90m│\u001b[0m\u001b[90m           \u001b[0m18.6\u001b[90m \u001b[0m\u001b[90m│\u001b[0m\u001b[90m \u001b[0m\u001b[90m…\u001b[0m\u001b[90m \u001b[0m\u001b[90m│\u001b[0m\u001b[90m    \u001b[0m1.03\u001b[90m \u001b[0m\u001b[90m│\u001b[0m\u001b[90m    \u001b[0m3.17\u001b[90m \u001b[0m\u001b[90m│\u001b[0m\u001b[90m  \u001b[0m1185\u001b[90m \u001b[0m\u001b[90m│\u001b[0m\u001b[90m \u001b[0m1742380861.9593136\u001b[90m \u001b[0m\u001b[90m│\u001b[0m\u001b[90m \u001b[0mMQ0DPPbpjRXWYA\u001b[90m \u001b[0m\u001b[90m│\u001b[0m\u001b[90m\n",
      "\u001b[0m\u001b[90m├\u001b[0m\u001b[90m─\u001b[0m\u001b[90m─\u001b[0m\u001b[90m─\u001b[0m\u001b[90m─\u001b[0m\u001b[90m─\u001b[0m\u001b[90m─\u001b[0m\u001b[90m─\u001b[0m\u001b[90m─\u001b[0m\u001b[90m─\u001b[0m\u001b[90m─\u001b[0m\u001b[90m─\u001b[0m\u001b[90m─\u001b[0m\u001b[90m─\u001b[0m\u001b[90m─\u001b[0m\u001b[90m─\u001b[0m\u001b[90m┴\u001b[0m\u001b[90m─\u001b[0m\u001b[90m─\u001b[0m\u001b[90m─\u001b[0m\u001b[90m─\u001b[0m\u001b[90m─\u001b[0m\u001b[90m─\u001b[0m\u001b[90m─\u001b[0m\u001b[90m─\u001b[0m\u001b[90m─\u001b[0m\u001b[90m─\u001b[0m\u001b[90m─\u001b[0m\u001b[90m─\u001b[0m\u001b[90m─\u001b[0m\u001b[90m─\u001b[0m\u001b[90m─\u001b[0m\u001b[90m─\u001b[0m\u001b[90m─\u001b[0m\u001b[90m─\u001b[0m\u001b[90m┴\u001b[0m\u001b[90m─\u001b[0m\u001b[90m─\u001b[0m\u001b[90m─\u001b[0m\u001b[90m─\u001b[0m\u001b[90m─\u001b[0m\u001b[90m─\u001b[0m\u001b[90m─\u001b[0m\u001b[90m─\u001b[0m\u001b[90m─\u001b[0m\u001b[90m─\u001b[0m\u001b[90m─\u001b[0m\u001b[90m─\u001b[0m\u001b[90m─\u001b[0m\u001b[90m┴\u001b[0m\u001b[90m─\u001b[0m\u001b[90m─\u001b[0m\u001b[90m─\u001b[0m\u001b[90m─\u001b[0m\u001b[90m─\u001b[0m\u001b[90m─\u001b[0m\u001b[90m─\u001b[0m\u001b[90m─\u001b[0m\u001b[90m─\u001b[0m\u001b[90m─\u001b[0m\u001b[90m─\u001b[0m\u001b[90m─\u001b[0m\u001b[90m─\u001b[0m\u001b[90m─\u001b[0m\u001b[90m─\u001b[0m\u001b[90m─\u001b[0m\u001b[90m┴\u001b[0m\u001b[90m─\u001b[0m\u001b[90m─\u001b[0m\u001b[90m─\u001b[0m\u001b[90m┴\u001b[0m\u001b[90m─\u001b[0m\u001b[90m─\u001b[0m\u001b[90m─\u001b[0m\u001b[90m─\u001b[0m\u001b[90m─\u001b[0m\u001b[90m─\u001b[0m\u001b[90m─\u001b[0m\u001b[90m─\u001b[0m\u001b[90m─\u001b[0m\u001b[90m┴\u001b[0m\u001b[90m─\u001b[0m\u001b[90m─\u001b[0m\u001b[90m─\u001b[0m\u001b[90m─\u001b[0m\u001b[90m─\u001b[0m\u001b[90m─\u001b[0m\u001b[90m─\u001b[0m\u001b[90m─\u001b[0m\u001b[90m─\u001b[0m\u001b[90m┴\u001b[0m\u001b[90m─\u001b[0m\u001b[90m─\u001b[0m\u001b[90m─\u001b[0m\u001b[90m─\u001b[0m\u001b[90m─\u001b[0m\u001b[90m─\u001b[0m\u001b[90m─\u001b[0m\u001b[90m┴\u001b[0m\u001b[90m─\u001b[0m\u001b[90m─\u001b[0m\u001b[90m─\u001b[0m\u001b[90m─\u001b[0m\u001b[90m─\u001b[0m\u001b[90m─\u001b[0m\u001b[90m─\u001b[0m\u001b[90m─\u001b[0m\u001b[90m─\u001b[0m\u001b[90m─\u001b[0m\u001b[90m─\u001b[0m\u001b[90m─\u001b[0m\u001b[90m─\u001b[0m\u001b[90m─\u001b[0m\u001b[90m─\u001b[0m\u001b[90m─\u001b[0m\u001b[90m─\u001b[0m\u001b[90m─\u001b[0m\u001b[90m─\u001b[0m\u001b[90m─\u001b[0m\u001b[90m┴\u001b[0m\u001b[90m─\u001b[0m\u001b[90m─\u001b[0m\u001b[90m─\u001b[0m\u001b[90m─\u001b[0m\u001b[90m─\u001b[0m\u001b[90m─\u001b[0m\u001b[90m─\u001b[0m\u001b[90m─\u001b[0m\u001b[90m─\u001b[0m\u001b[90m─\u001b[0m\u001b[90m─\u001b[0m\u001b[90m─\u001b[0m\u001b[90m─\u001b[0m\u001b[90m─\u001b[0m\u001b[90m─\u001b[0m\u001b[90m─\u001b[0m\u001b[90m┤\u001b[0m\u001b[90m\n",
      "\u001b[0m\u001b[90m│\u001b[0m\u001b[90m \u001b[0m3 rows\u001b[90m                                                                                                           \u001b[0m15 columns (9 shown)\u001b[90m \u001b[0m\u001b[90m│\u001b[0m\u001b[90m\n",
      "\u001b[0m\u001b[90m└\u001b[0m\u001b[90m─\u001b[0m\u001b[90m─\u001b[0m\u001b[90m─\u001b[0m\u001b[90m─\u001b[0m\u001b[90m─\u001b[0m\u001b[90m─\u001b[0m\u001b[90m─\u001b[0m\u001b[90m─\u001b[0m\u001b[90m─\u001b[0m\u001b[90m─\u001b[0m\u001b[90m─\u001b[0m\u001b[90m─\u001b[0m\u001b[90m─\u001b[0m\u001b[90m─\u001b[0m\u001b[90m─\u001b[0m\u001b[90m─\u001b[0m\u001b[90m─\u001b[0m\u001b[90m─\u001b[0m\u001b[90m─\u001b[0m\u001b[90m─\u001b[0m\u001b[90m─\u001b[0m\u001b[90m─\u001b[0m\u001b[90m─\u001b[0m\u001b[90m─\u001b[0m\u001b[90m─\u001b[0m\u001b[90m─\u001b[0m\u001b[90m─\u001b[0m\u001b[90m─\u001b[0m\u001b[90m─\u001b[0m\u001b[90m─\u001b[0m\u001b[90m─\u001b[0m\u001b[90m─\u001b[0m\u001b[90m─\u001b[0m\u001b[90m─\u001b[0m\u001b[90m─\u001b[0m\u001b[90m─\u001b[0m\u001b[90m─\u001b[0m\u001b[90m─\u001b[0m\u001b[90m─\u001b[0m\u001b[90m─\u001b[0m\u001b[90m─\u001b[0m\u001b[90m─\u001b[0m\u001b[90m─\u001b[0m\u001b[90m─\u001b[0m\u001b[90m─\u001b[0m\u001b[90m─\u001b[0m\u001b[90m─\u001b[0m\u001b[90m─\u001b[0m\u001b[90m─\u001b[0m\u001b[90m─\u001b[0m\u001b[90m─\u001b[0m\u001b[90m─\u001b[0m\u001b[90m─\u001b[0m\u001b[90m─\u001b[0m\u001b[90m─\u001b[0m\u001b[90m─\u001b[0m\u001b[90m─\u001b[0m\u001b[90m─\u001b[0m\u001b[90m─\u001b[0m\u001b[90m─\u001b[0m\u001b[90m─\u001b[0m\u001b[90m─\u001b[0m\u001b[90m─\u001b[0m\u001b[90m─\u001b[0m\u001b[90m─\u001b[0m\u001b[90m─\u001b[0m\u001b[90m─\u001b[0m\u001b[90m─\u001b[0m\u001b[90m─\u001b[0m\u001b[90m─\u001b[0m\u001b[90m─\u001b[0m\u001b[90m─\u001b[0m\u001b[90m─\u001b[0m\u001b[90m─\u001b[0m\u001b[90m─\u001b[0m\u001b[90m─\u001b[0m\u001b[90m─\u001b[0m\u001b[90m─\u001b[0m\u001b[90m─\u001b[0m\u001b[90m─\u001b[0m\u001b[90m─\u001b[0m\u001b[90m─\u001b[0m\u001b[90m─\u001b[0m\u001b[90m─\u001b[0m\u001b[90m─\u001b[0m\u001b[90m─\u001b[0m\u001b[90m─\u001b[0m\u001b[90m─\u001b[0m\u001b[90m─\u001b[0m\u001b[90m─\u001b[0m\u001b[90m─\u001b[0m\u001b[90m─\u001b[0m\u001b[90m─\u001b[0m\u001b[90m─\u001b[0m\u001b[90m─\u001b[0m\u001b[90m─\u001b[0m\u001b[90m─\u001b[0m\u001b[90m─\u001b[0m\u001b[90m─\u001b[0m\u001b[90m─\u001b[0m\u001b[90m─\u001b[0m\u001b[90m─\u001b[0m\u001b[90m─\u001b[0m\u001b[90m─\u001b[0m\u001b[90m─\u001b[0m\u001b[90m─\u001b[0m\u001b[90m─\u001b[0m\u001b[90m─\u001b[0m\u001b[90m─\u001b[0m\u001b[90m─\u001b[0m\u001b[90m─\u001b[0m\u001b[90m─\u001b[0m\u001b[90m─\u001b[0m\u001b[90m─\u001b[0m\u001b[90m─\u001b[0m\u001b[90m─\u001b[0m\u001b[90m─\u001b[0m\u001b[90m─\u001b[0m\u001b[90m─\u001b[0m\u001b[90m─\u001b[0m\u001b[90m─\u001b[0m\u001b[90m─\u001b[0m\u001b[90m─\u001b[0m\u001b[90m─\u001b[0m\u001b[90m─\u001b[0m\u001b[90m─\u001b[0m\u001b[90m─\u001b[0m\u001b[90m─\u001b[0m\u001b[90m─\u001b[0m\u001b[90m─\u001b[0m\u001b[90m─\u001b[0m\u001b[90m─\u001b[0m\u001b[90m─\u001b[0m\u001b[90m─\u001b[0m\u001b[90m─\u001b[0m\u001b[90m┘\u001b[0m\u001b[90m\n",
      "\u001b[0m"
     ]
    }
   ],
   "source": [
    "!echo \"select * from bronze.wine limit 3;\" | duckdb ../csvs.duckdb"
   ]
  },
  {
   "cell_type": "markdown",
   "metadata": {},
   "source": [
    "## 5. Summary\n",
    "\n",
    "In this lesson, we've:\n",
    "\n",
    "- learned and got a feel for what dlt is\n",
    "- learned about its fundamental concepts: sources, resources, and pipelines\n",
    "- loaded some fake and actual data from various sources (a Python object, MySQL database, CSV files) into a local DuckDB database\n"
   ]
  }
 ],
 "metadata": {
  "kernelspec": {
   "display_name": ".venv",
   "language": "python",
   "name": "python3"
  },
  "language_info": {
   "codemirror_mode": {
    "name": "ipython",
    "version": 3
   },
   "file_extension": ".py",
   "mimetype": "text/x-python",
   "name": "python",
   "nbconvert_exporter": "python",
   "pygments_lexer": "ipython3",
   "version": "3.12.3"
  }
 },
 "nbformat": 4,
 "nbformat_minor": 2
}
